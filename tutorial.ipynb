{
 "cells": [
  {
   "cell_type": "code",
   "execution_count": 2,
   "metadata": {},
   "outputs": [
    {
     "ename": "ValueError",
     "evalue": "invalid literal for int() with base 10: ''",
     "output_type": "error",
     "traceback": [
      "\u001b[1;31m---------------------------------------------------------------------------\u001b[0m",
      "\u001b[1;31mValueError\u001b[0m                                Traceback (most recent call last)",
      "Cell \u001b[1;32mIn [2], line 3\u001b[0m\n\u001b[0;32m      1\u001b[0m \u001b[39m# User Info\u001b[39;00m\n\u001b[1;32m----> 3\u001b[0m capital \u001b[39m=\u001b[39m \u001b[39mint\u001b[39m(\u001b[39minput\u001b[39m(\u001b[39m\"\u001b[39m\u001b[39mEnter your Capital\u001b[39m\u001b[39m\"\u001b[39m))\n\u001b[0;32m      4\u001b[0m email \u001b[39m=\u001b[39m \u001b[39minput\u001b[39m(\u001b[39m\"\u001b[39m\u001b[39mEnter your Email adress\u001b[39m\u001b[39m\"\u001b[39m)\n\u001b[0;32m      5\u001b[0m username \u001b[39m=\u001b[39m \u001b[39minput\u001b[39m(\u001b[39m\"\u001b[39m\u001b[39mEnter your Username\u001b[39m\u001b[39m\"\u001b[39m)\n",
      "\u001b[1;31mValueError\u001b[0m: invalid literal for int() with base 10: ''"
     ]
    }
   ],
   "source": [
    "# User Info\n",
    "\n",
    "capital = int(input(\"Enter your Capital\"))\n",
    "email = input(\"Enter your Email adress\")\n",
    "username = input(\"Enter your Username\")\n",
    "Fullname = input(\"Enter Your Full Name\")\n",
    "DOB = input(\"Enter Your Date Of Birth\")\n",
    "Age = int(input(\"Enter Your Age\"))\n",
    "\n",
    "print(f'Hello your capital is {capital}')\n",
    "print(f'Hello your email is {email}')\n",
    "print(f'Hello your username is {username}')\n",
    "print(f'Hello your full name is {Fullname}')\n",
    "print(f'Hello your Date Of Birth is {DOB}')\n",
    "print(f'Hello Your Age is {Age}')"
   ]
  },
  {
   "cell_type": "code",
   "execution_count": null,
   "metadata": {},
   "outputs": [
    {
     "name": "stdout",
     "output_type": "stream",
     "text": [
      "Hello Emeka Ogochukwu\n",
      "Your Username is Emeka500\n",
      "This Is Your Date Of Birth 1st of January 1960\n",
      "You are 62 years old.\n",
      "The Name Of Your Pet Is Mikky\n"
     ]
    }
   ],
   "source": [
    "first_name = input(\"Enter Your First Name\")\n",
    "last_name = input(\"Enter Your Last Name\")\n",
    "username = input(\"Enter Your Username\")\n",
    "DOB = input(\"Enter Your Date Of Birth\")\n",
    "age = int(input(\"Enter Your Age\"))\n",
    "pet = input(\"Enter The Name Of Your Pet\")\n",
    "print(f'Hello {first_name} {last_name}')\n",
    "print(f'Your Username is {username}')\n",
    "print(f'This Is Your Date Of Birth {DOB}')\n",
    "print(f'You are {age} years old.')\n",
    "print(f'The Name Of Your Pet Is {pet}')"
   ]
  },
  {
   "cell_type": "code",
   "execution_count": null,
   "metadata": {},
   "outputs": [
    {
     "name": "stdout",
     "output_type": "stream",
     "text": [
      "Victor Osuji\n"
     ]
    }
   ],
   "source": [
    "first_name = \"Victor \"\n",
    "last_name = \"Osuji\"\n",
    "print(first_name  + last_name)"
   ]
  },
  {
   "cell_type": "code",
   "execution_count": null,
   "metadata": {},
   "outputs": [
    {
     "name": "stdout",
     "output_type": "stream",
     "text": [
      "Beard oil\n",
      "Kitchen Knife\n",
      "Gas cooker\n",
      "Fridge\n",
      "Lamp\n",
      "Basket\n",
      "Tiles\n",
      "Oven\n"
     ]
    }
   ],
   "source": [
    "jumia_cart = ['Beard oil', 'Kitchen Knife', 'Gas cooker', 'Fridge', 'Lamp']\n",
    "jumia_cart.extend(['Basket', 'Tiles', 'Oven'])\n",
    "for x in jumia_cart:\n",
    "    print(x)"
   ]
  },
  {
   "cell_type": "code",
   "execution_count": null,
   "metadata": {},
   "outputs": [
    {
     "name": "stdout",
     "output_type": "stream",
     "text": [
      "1\n",
      "2\n",
      "3\n",
      "4\n",
      "5\n",
      "6\n",
      "7\n",
      "8\n",
      "9\n"
     ]
    }
   ],
   "source": [
    "list = [9,8,7,6,5,4,3,2,1]\n",
    "list.sort()\n",
    "for x in list:\n",
    "    print(x)"
   ]
  },
  {
   "cell_type": "code",
   "execution_count": null,
   "metadata": {},
   "outputs": [
    {
     "name": "stdout",
     "output_type": "stream",
     "text": [
      "9\n",
      "8\n",
      "7\n",
      "6\n",
      "5\n",
      "4\n",
      "3\n",
      "2\n",
      "1\n"
     ]
    }
   ],
   "source": [
    "list = [9,8,7,6,5,4,3,2,1]\n",
    "list.sort()\n",
    "list.reverse()\n",
    "for x in list:\n",
    "    print(x)"
   ]
  },
  {
   "cell_type": "code",
   "execution_count": null,
   "metadata": {},
   "outputs": [
    {
     "name": "stdout",
     "output_type": "stream",
     "text": [
      "1\n",
      "2\n",
      "3\n",
      "4\n",
      "5\n",
      "6\n",
      "7\n",
      "9\n"
     ]
    }
   ],
   "source": [
    "list = [9,8,7,6,5,4,3,2,1]\n",
    "list.sort()\n",
    "list.remove(8)\n",
    "for x in list:\n",
    "    print(x)"
   ]
  },
  {
   "cell_type": "code",
   "execution_count": null,
   "metadata": {},
   "outputs": [
    {
     "name": "stdout",
     "output_type": "stream",
     "text": [
      " Hello, your surname is osuji4\n"
     ]
    }
   ],
   "source": [
    "name = input('Enter your name.')\n",
    "dictionary = {\n",
    "    'name': 'surname',\n",
    "    'Victor': 'Osuji',\n",
    "    'Lilian': 'Osuji1',\n",
    "    'Jeniffer': 'Osuji2',\n",
    "    'richeal': 'Osuji3',\n",
    "    'franca': 'osuji4',\n",
    "    'maureen': 'osuji5',\n",
    "    'patience': 'osuji6',\n",
    "    'joyce': 'osuji7'\n",
    "}\n",
    "print(f' Hello, your surname is {dictionary.get(name)}')"
   ]
  },
  {
   "cell_type": "code",
   "execution_count": null,
   "metadata": {},
   "outputs": [
    {
     "name": "stdout",
     "output_type": "stream",
     "text": [
      "Hello, your name is \"Ghost\" and the capital of your state (Imo) is Owerri\n"
     ]
    }
   ],
   "source": [
    "# write a program to return the name of the user\n",
    "#  and the capital of his or her state \n",
    "# according to user's input.\n",
    "\n",
    "\n",
    "name = input('Enter your name.').capitalize()\n",
    "state = input('What is the name of your state?').capitalize()\n",
    "state_and_capital = {\n",
    "    'Abia': 'Umuahia',\n",
    "    'Adamawa': 'Yola',\n",
    "    'Akwa ibom': 'Uyo',\n",
    "    'Anambra': 'Awka',\n",
    "    'Bauchi': 'Bauchi',\n",
    "    'Bayelsa': 'Yenagoa',\n",
    "    'Benue': 'Makurdi',\n",
    "    'Borno': 'Maiduguri',\n",
    "    'Cross river': 'Calabar',\n",
    "    'Delta': 'Asaba',\n",
    "    'Ebonyi': 'Abakaliki',\n",
    "    'Edo': 'Benin city',\n",
    "    'Ekiti': 'Ado ekiti',\n",
    "    'Enugu': 'Enugu',\n",
    "    'Gombe': 'Gombe',\n",
    "    'Imo': 'Owerri',\n",
    "    'Jigawa': 'Dutse',\n",
    "    'Kaduna': 'Kaduna',\n",
    "    'Katsina': 'Katsina',\n",
    "    'Kirbi': 'Birnin kebbi',\n",
    "    'Kogi': 'Lokoja',\n",
    "    'Kwara': 'Ilorin',\n",
    "    'Lagos': 'Ikeja',\n",
    "    'Nasarawa': 'Lafia',\n",
    "    'Niger': 'Minna',\n",
    "    'Ogun': 'Abeokuta',\n",
    "    'Ondo': 'Akure',\n",
    "    'Osun': 'Oshogbo',\n",
    "    'Oyo': 'ibadan',\n",
    "    'Plateau': 'Jos',\n",
    "    'Rivers': 'Port Harcourt',\n",
    "    'Sokoto': 'Sokoto',\n",
    "    'Taraba': 'Jalingo',\n",
    "    'Yobe': 'Damaturu',\n",
    "    'Zamfara': 'Gusau'\n",
    "\n",
    "\n",
    "}\n",
    "for x,y in state_and_capital.items():\n",
    "  if state == x:\n",
    "    print(f'Hello, your name is \"{name}\" and the capital of your state ({x}) is {y}')\n",
    "    break\n",
    "else:\n",
    "    print(f'Sorry {name}! {state} isn\\'t among the 36 states in Nigeria.')\n",
    "    \n",
    "\n"
   ]
  },
  {
   "cell_type": "code",
   "execution_count": null,
   "metadata": {},
   "outputs": [
    {
     "name": "stdout",
     "output_type": "stream",
     "text": [
      "50 x 0 = 0\n",
      "50 x 1 = 50\n",
      "50 x 2 = 100\n",
      "50 x 3 = 150\n",
      "50 x 4 = 200\n",
      "50 x 5 = 250\n",
      "50 x 6 = 300\n",
      "50 x 7 = 350\n",
      "50 x 8 = 400\n",
      "50 x 9 = 450\n",
      "50 x 10 = 500\n",
      "50 x 11 = 550\n",
      "50 x 12 = 600\n",
      "50 x 13 = 650\n",
      "50 x 14 = 700\n",
      "50 x 15 = 750\n",
      "50 x 16 = 800\n",
      "50 x 17 = 850\n",
      "50 x 18 = 900\n",
      "50 x 19 = 950\n",
      "50 x 20 = 1000\n",
      "50 x 21 = 1050\n",
      "50 x 22 = 1100\n",
      "50 x 23 = 1150\n",
      "50 x 24 = 1200\n",
      "50 x 25 = 1250\n",
      "50 x 26 = 1300\n",
      "50 x 27 = 1350\n",
      "50 x 28 = 1400\n",
      "50 x 29 = 1450\n",
      "50 x 30 = 1500\n"
     ]
    }
   ],
   "source": [
    "desired_number = int(input('Enter your desired time table number'))\n",
    "endpoint = int(input('Enter your time table endpoint number'))\n",
    "for x in range(0,endpoint):\n",
    "    print(f'{desired_number} x {x} =', desired_number*x)"
   ]
  },
  {
   "cell_type": "code",
   "execution_count": null,
   "metadata": {},
   "outputs": [
    {
     "name": "stdout",
     "output_type": "stream",
     "text": [
      "Elon musk owns one of the Platforms: {('facebook', 'instagram', 'twitter')}\n",
      "\n",
      "Mark zuckerberg owns one of the Platforms: {('facebook', 'instagram', 'twitter')}\n",
      "\n",
      "Elon musk owns one of the Platforms: {('facebook', 'instagram', 'twitter')}\n",
      "\n",
      "Mark zuckerberg owns one of the Platforms: {('facebook', 'instagram', 'twitter')}\n",
      "\n",
      "Elon musk owns one of the Platforms: {('facebook', 'instagram', 'twitter')}\n",
      "\n",
      "Mark zuckerberg owns one of the Platforms: {('facebook', 'instagram', 'twitter')}\n",
      "\n"
     ]
    }
   ],
   "source": [
    "fame = [\"Davido\",\"Wizkid\",\"Burna boy\"]\n",
    "rich = [\"Elon musk\",\"Mark zuckerberg\"]\n",
    "platform = \"facebook\",\"instagram\",\"twitter\"\n",
    "fame.sort()\n",
    "for i in fame:\n",
    "    for j in rich:\n",
    "        for k in platform:\n",
    "         print(f'{j} owns one of the Platforms:', {platform})\n",
    "         break\n",
    "        print(f'')\n"
   ]
  },
  {
   "cell_type": "code",
   "execution_count": null,
   "metadata": {},
   "outputs": [],
   "source": [
    "# write a program to detect if a user is too young,\n",
    "# at the right age or too old to drive.\n",
    "# minimum age is 18 and maximum age is 100."
   ]
  },
  {
   "cell_type": "code",
   "execution_count": null,
   "metadata": {},
   "outputs": [
    {
     "name": "stdout",
     "output_type": "stream",
     "text": [
      "Hello Ghost, you're 27 years old and you're old enough to drive.\n"
     ]
    }
   ],
   "source": [
    "\n",
    "name = input('What is your name?').capitalize()\n",
    "age = int(input('How old are you?'))\n",
    "minimum_age = int(18)\n",
    "maximum_age = int(100)\n",
    "\n",
    "if age >= minimum_age and age <= maximum_age:\n",
    "    print(f'Hello {name}, you\\'re {age} years old and you\\'re old enough to drive.')\n",
    "elif age > maximum_age:\n",
    "    print(f'Sorry {name} you\\'re {age} years old and too old to drive.')\n",
    "else:\n",
    "    print(f'Sorry {name} you\\'re {age} years old, not upto {minimum_age} and you\\'re too young to drive.')"
   ]
  },
  {
   "cell_type": "code",
   "execution_count": null,
   "metadata": {},
   "outputs": [
    {
     "name": "stdout",
     "output_type": "stream",
     "text": [
      "\n",
      "0 0\n",
      " ^\n",
      " —\n",
      "\n",
      "\n"
     ]
    }
   ],
   "source": [
    "emoji = '''\n",
    "0 0\n",
    " ^\n",
    " —\n",
    "\n",
    "'''\n",
    "print(emoji)"
   ]
  },
  {
   "cell_type": "code",
   "execution_count": null,
   "metadata": {},
   "outputs": [
    {
     "name": "stdout",
     "output_type": "stream",
     "text": [
      "Message allowed\n"
     ]
    }
   ],
   "source": [
    "# Ternary operator.\n",
    "\n",
    "is_friend = True\n",
    "message = 'Message allowed' if is_friend else 'You cannot message this user because you are not friends. and you are not verified.'\n",
    "print(message)"
   ]
  },
  {
   "cell_type": "code",
   "execution_count": null,
   "metadata": {},
   "outputs": [
    {
     "name": "stdout",
     "output_type": "stream",
     "text": [
      "Hello Ghost, your provided cridentials is correct and you can now drive your Tesla car. 😊\n"
     ]
    }
   ],
   "source": [
    "# Tesla vehicle verification.\n",
    "\n",
    "name = input('What is your name?').capitalize()\n",
    "license = input('Do you have a license? answer with Yes or No.').lower()\n",
    "minimum_age = 18\n",
    "can_you_drive = input('Can you drive? answer with Yes or No.').lower()\n",
    "\n",
    "if license == 'yes' and minimum_age >= 18 and  can_you_drive == 'yes':\n",
    "    print(f'Hello {name}, your provided cridentials is correct and you can now drive your Tesla car. 😊')\n",
    "else:\n",
    "    print(f'Sorry {name} you cannot drive because your credentials isn\\'t accurate. 😒')\n"
   ]
  },
  {
   "cell_type": "code",
   "execution_count": null,
   "metadata": {},
   "outputs": [
    {
     "name": "stdout",
     "output_type": "stream",
     "text": [
      "False\n"
     ]
    }
   ],
   "source": [
    "# is vs ==\n",
    "\n",
    "\n",
    "print({} is {})"
   ]
  },
  {
   "cell_type": "code",
   "execution_count": null,
   "metadata": {},
   "outputs": [
    {
     "name": "stdout",
     "output_type": "stream",
     "text": [
      "   *   \n",
      "  ***  \n",
      " ***** \n",
      "*******\n",
      "   *   \n",
      "   *   \n"
     ]
    }
   ],
   "source": [
    "picture = [\n",
    "    [0,0,0,1,0,0,0],\n",
    "    [0,0,1,1,1,0,0],\n",
    "    [0,1,1,1,1,1,0],\n",
    "    [1,1,1,1,1,1,1],\n",
    "    [0,0,0,1,0,0,0],\n",
    "    [0,0,0,1,0,0,0]\n",
    "]\n",
    "\n",
    "for x in picture:\n",
    "    for numbers in x:\n",
    "        if numbers == 1:\n",
    "            print('*', end='')\n",
    "        else:\n",
    "            print(' ', end='')\n",
    "    print('')"
   ]
  },
  {
   "cell_type": "code",
   "execution_count": null,
   "metadata": {},
   "outputs": [
    {
     "name": "stdout",
     "output_type": "stream",
     "text": [
      "130\n",
      "160\n",
      "190\n",
      "220\n"
     ]
    }
   ],
   "source": [
    "z = 100\n",
    "\n",
    "while z in range(z,200,30):\n",
    "    z += 30\n",
    "    print(z)\n",
    "    "
   ]
  },
  {
   "cell_type": "code",
   "execution_count": null,
   "metadata": {},
   "outputs": [
    {
     "name": "stdout",
     "output_type": "stream",
     "text": [
      "1\n",
      "2\n",
      "3\n",
      "4\n",
      "5\n",
      "6\n",
      "7\n",
      "8\n",
      "9\n"
     ]
    }
   ],
   "source": [
    "for z in range(1,10):\n",
    "    print(z)"
   ]
  },
  {
   "cell_type": "code",
   "execution_count": null,
   "metadata": {},
   "outputs": [
    {
     "name": "stdout",
     "output_type": "stream",
     "text": [
      "   *   \n",
      "  ***  \n",
      " ***** \n",
      "*******\n",
      "   *   \n",
      "   *   \n"
     ]
    }
   ],
   "source": [
    "picture = [\n",
    "    [0,0,0,1,0,0,0],\n",
    "    [0,0,1,1,1,0,0],\n",
    "    [0,1,1,1,1,1,0],\n",
    "    [1,1,1,1,1,1,1],\n",
    "    [0,0,0,1,0,0,0],\n",
    "    [0,0,0,1,0,0,0]\n",
    "]\n",
    "\n",
    "for z in picture:\n",
    "    for i in z:\n",
    "        if i == 1:\n",
    "            print('*', end='')\n",
    "        else:\n",
    "          print(' ', end='')\n",
    "    print('')"
   ]
  },
  {
   "cell_type": "code",
   "execution_count": null,
   "metadata": {},
   "outputs": [
    {
     "name": "stdout",
     "output_type": "stream",
     "text": [
      "10 x 10 = 100\n",
      "10 x 11 = 110\n",
      "10 x 12 = 120\n",
      "10 x 13 = 130\n",
      "10 x 14 = 140\n"
     ]
    }
   ],
   "source": [
    "number = int(input('Enter your desired time table number'))\n",
    "endpoint = int(input('Enter your endpoint value.'))\n",
    "\n",
    "for x in range(number,endpoint):\n",
    "    print(f'{number} x {x} =', number * x)"
   ]
  },
  {
   "cell_type": "code",
   "execution_count": null,
   "metadata": {},
   "outputs": [
    {
     "name": "stdout",
     "output_type": "stream",
     "text": [
      "['b', 'n']\n"
     ]
    }
   ],
   "source": [
    "some_list = ['a','b','c','b','d','m','n','n']\n",
    "duplicate = []\n",
    "for x in some_list:\n",
    "    if some_list.count(x) > 1:\n",
    "        if x not in duplicate:\n",
    "            duplicate.append(x)\n",
    "\n",
    "print(duplicate)"
   ]
  },
  {
   "cell_type": "code",
   "execution_count": null,
   "metadata": {},
   "outputs": [
    {
     "name": "stdout",
     "output_type": "stream",
     "text": [
      "30\n"
     ]
    }
   ],
   "source": [
    "def ghost(num1,num2):\n",
    "   print(num1 + num2)\n",
    "ghost(10,20)\n"
   ]
  },
  {
   "cell_type": "code",
   "execution_count": null,
   "metadata": {},
   "outputs": [
    {
     "data": {
      "text/plain": [
       "30"
      ]
     },
     "execution_count": 3,
     "metadata": {},
     "output_type": "execute_result"
    }
   ],
   "source": [
    "def ghost(num1,num2):\n",
    "   return num1 + num2\n",
    "ghost(10,20)\n"
   ]
  },
  {
   "cell_type": "code",
   "execution_count": null,
   "metadata": {},
   "outputs": [
    {
     "data": {
      "text/plain": [
       "'110010'"
      ]
     },
     "execution_count": 9,
     "metadata": {},
     "output_type": "execute_result"
    }
   ],
   "source": [
    "bin(50)[2:]"
   ]
  },
  {
   "cell_type": "code",
   "execution_count": null,
   "metadata": {},
   "outputs": [
    {
     "name": "stdout",
     "output_type": "stream",
     "text": [
      "Hi, 9 is an odd number.\n"
     ]
    }
   ],
   "source": [
    "def even_or_odd():\n",
    "    number = int(input('Enter your desired number.'))\n",
    "    if number % 2 == 0:\n",
    "        print(f'Hi, {number} is an even number')\n",
    "    else:\n",
    "        print(f'Hi, {number} is an odd number.')\n",
    "even_or_odd()"
   ]
  },
  {
   "cell_type": "code",
   "execution_count": null,
   "metadata": {},
   "outputs": [
    {
     "name": "stdout",
     "output_type": "stream",
     "text": [
      "1\n",
      "even\n",
      "3\n",
      "even\n",
      "5\n",
      "even\n",
      "7\n",
      "even\n",
      "9\n"
     ]
    }
   ],
   "source": [
    "a = 'even'\n",
    "\n",
    "for x in range(1,10):\n",
    "    if x % 2 == 0:\n",
    "        print(a)\n",
    "    else:\n",
    "        print(x)"
   ]
  },
  {
   "cell_type": "code",
   "execution_count": null,
   "metadata": {},
   "outputs": [
    {
     "data": {
      "text/plain": [
       "18"
      ]
     },
     "execution_count": 42,
     "metadata": {},
     "output_type": "execute_result"
    }
   ],
   "source": [
    "def highest_even():\n",
    "    even = []\n",
    "    for x in range(2,20,2):\n",
    "        even.append(x)\n",
    "    return max(even)\n",
    "highest_even()"
   ]
  },
  {
   "cell_type": "code",
   "execution_count": null,
   "metadata": {},
   "outputs": [
    {
     "name": "stdout",
     "output_type": "stream",
     "text": [
      "The highest even number is 50\n"
     ]
    }
   ],
   "source": [
    "def highest_even():\n",
    "    a = [50,4,6,10]\n",
    "    b = max(a)\n",
    "    print(f'The highest even number is {b}')\n",
    "highest_even()"
   ]
  },
  {
   "cell_type": "code",
   "execution_count": null,
   "metadata": {},
   "outputs": [
    {
     "name": "stdout",
     "output_type": "stream",
     "text": [
      "Hello Ghost below are your found credentials on our database. \n",
      " \n",
      " dict_items([('Full name', 'Bolt Ghost'), ('Age', 700), ('Nickname', 'A. Bolt'), ('Hobby', 'Coding'), ('Best Food', 'Rice'), ('Best Friend', 'Cyber')])\n"
     ]
    }
   ],
   "source": [
    "# Database\n",
    "\n",
    "users = {\n",
    "    \n",
    "    'John':{\n",
    "        'Full name': 'John Ugonna',\n",
    "        'Age': 24,\n",
    "        'Nickname': 'Johnbosco',\n",
    "        'Hobby': 'Swimming',\n",
    "        'Best Food': 'Beans',\n",
    "        'Best Friend': 'Myself'\n",
    "    },\n",
    "\n",
    "\n",
    "    'Amaka':\n",
    "    {\n",
    "        'Full name': 'Amaka Ogbuike',\n",
    "        'Age': 26,\n",
    "        'Nickname': 'Amaka Soft',\n",
    "        'Hobby': 'Dancing',\n",
    "        'Best Food': 'Rice',\n",
    "        'Best Friend': 'Chidinma'\n",
    "    },\n",
    "\n",
    "    'Habibat':\n",
    "    {\n",
    "        'Full name': 'Habibat Oluwole',\n",
    "        'Age': 30,\n",
    "        'Nickname': 'Habibat Fresh',\n",
    "        'Hobby': 'Singing',\n",
    "        'Best Food': 'Plantain',\n",
    "        'Best Friend': 'Fatima'\n",
    "    },\n",
    "\n",
    "    'Ghost':\n",
    "    {\n",
    "        'Full name': 'Bolt Ghost',\n",
    "        'Age': 700,\n",
    "        'Nickname': 'A. Bolt',\n",
    "        'Hobby': 'Coding',\n",
    "        'Best Food': 'Rice',\n",
    "        'Best Friend': 'Cyber'\n",
    "    }\n",
    "}\n",
    "\n",
    "# End of Database\n",
    "\n",
    "\n",
    "\n",
    "\n",
    "name = input('Enter Your name: ').capitalize()\n",
    "\n",
    "if name in users:\n",
    "    print(f'Hello {name} below are your found credentials on our database. \\n \\n {users.get(name).items()}')\n"
   ]
  },
  {
   "cell_type": "code",
   "execution_count": null,
   "metadata": {},
   "outputs": [
    {
     "name": "stdout",
     "output_type": "stream",
     "text": [
      "The total sum of your entered numbers [30] is below\n",
      "30\n"
     ]
    }
   ],
   "source": [
    "# Enter 'done' to calculate your total entered numbers.\n",
    "\n",
    "\n",
    "numbers = []\n",
    "\n",
    "\n",
    "while True:\n",
    "    enter = input('Enter a number').capitalize()\n",
    "    if enter == 'Done':\n",
    "        print(f'The total sum of your entered numbers {numbers} is below') \n",
    "        break\n",
    "    try:\n",
    "        numbers.append(int(enter))\n",
    "    except:\n",
    "        print('Sorry you encountered an error, your input must be a number.')\n",
    "print(sum(numbers))\n",
    "        "
   ]
  },
  {
   "cell_type": "code",
   "execution_count": null,
   "metadata": {},
   "outputs": [
    {
     "name": "stdout",
     "output_type": "stream",
     "text": [
      "The total sum of your entered numbers [100, 200] is below\n",
      "Total number = 300\n"
     ]
    }
   ],
   "source": [
    "my_list = []\n",
    "\n",
    "while True:\n",
    "    enter = input('Enter a number').lower()\n",
    "    if enter == 'done':\n",
    "        print(f'The total sum of your entered numbers {my_list} is below')\n",
    "        break\n",
    "    try:\n",
    "        my_list.append(int(enter))\n",
    "    except:\n",
    "        print('Only numbers are allowed.')\n",
    "\n",
    "print('Total number =', sum(my_list))"
   ]
  },
  {
   "cell_type": "code",
   "execution_count": null,
   "metadata": {},
   "outputs": [
    {
     "name": "stdout",
     "output_type": "stream",
     "text": [
      "Your name is Ghost, you are 22 years old, your hobby is Coding and your best food is Rice\n"
     ]
    }
   ],
   "source": [
    "try:\n",
    "    name = input('Enter your name').capitalize()\n",
    "    age = int(input('How old are you?'))\n",
    "    hobby = input('What is your hobby').capitalize()\n",
    "    best_food = input('What is your best food?').capitalize()\n",
    "    if name and age and hobby and best_food:\n",
    "        print(\n",
    "            f'Your name is {name}, you are {age} years old, your hobby is {hobby} and your best food is {best_food}')\n",
    "except:\n",
    "    print('Sorry you encountered an error, your age must be a number')"
   ]
  },
  {
   "cell_type": "code",
   "execution_count": null,
   "metadata": {},
   "outputs": [
    {
     "name": "stdout",
     "output_type": "stream",
     "text": [
      "You are only allowed to input a number.\n",
      "You are only allowed to input a number.\n",
      "The total sum of your numbers [2, 300, 1000, 4000, 34] is 5336\n"
     ]
    }
   ],
   "source": [
    "my_list = []\n",
    "\n",
    "while True:\n",
    "    enter = input('Enter a number')\n",
    "    if enter == 'done':\n",
    "        print(f'The total sum of your numbers {my_list} is', sum(my_list))\n",
    "        break\n",
    "    try:\n",
    "        my_list.append(int(enter))\n",
    "    except:\n",
    "        print('You are only allowed to input a number.')\n",
    "    \n",
    "\n",
    "  "
   ]
  },
  {
   "cell_type": "code",
   "execution_count": null,
   "metadata": {},
   "outputs": [
    {
     "name": "stdout",
     "output_type": "stream",
     "text": [
      "10\n"
     ]
    }
   ],
   "source": [
    "try:\n",
    "    num1 = int(input('Enter first number'))\n",
    "    num2 = int(input('Enter second number'))\n",
    "    num3 = num1 * num2\n",
    "\n",
    "    print(num3)\n",
    "except:\n",
    "    print('your input must be a Number')"
   ]
  },
  {
   "cell_type": "code",
   "execution_count": null,
   "metadata": {},
   "outputs": [
    {
     "name": "stdout",
     "output_type": "stream",
     "text": [
      "<re.Match object; span=(13, 16), match='man'>\n"
     ]
    }
   ],
   "source": [
    "import re\n",
    "ok = 'obi is now a man and no more a boy'\n",
    "ok1 = re.search('man', ok)\n",
    "print(ok1)"
   ]
  },
  {
   "cell_type": "code",
   "execution_count": null,
   "metadata": {},
   "outputs": [
    {
     "name": "stdout",
     "output_type": "stream",
     "text": [
      "<re.Match object; span=(0, 12), match='Victor osuji'>\n"
     ]
    }
   ],
   "source": [
    "name = input('Enter your name: ').capitalize()\n",
    "name1 = re.search(name,name)\n",
    "print(name1)"
   ]
  },
  {
   "cell_type": "code",
   "execution_count": null,
   "metadata": {},
   "outputs": [
    {
     "name": "stdout",
     "output_type": "stream",
     "text": [
      "Please input only numbers.\n",
      "Please input only numbers.\n",
      "The total sum of your numbers [20, 30, 40, 100, 1000, 800] is, 1990\n"
     ]
    }
   ],
   "source": [
    "ok = []\n",
    "\n",
    "while True:\n",
    "    number = input('Enter a number').capitalize()\n",
    "    if number == 'Done':\n",
    "        print(f'The total sum of your numbers {ok} is,', sum(ok))\n",
    "        break\n",
    "    try:\n",
    "        ok.append(int(number))\n",
    "    except:\n",
    "        print('Please input only numbers.')"
   ]
  },
  {
   "cell_type": "code",
   "execution_count": null,
   "metadata": {},
   "outputs": [
    {
     "name": "stdout",
     "output_type": "stream",
     "text": [
      "10 x 0 = 0\n",
      "10 x 1 = 10\n",
      "10 x 2 = 20\n",
      "10 x 3 = 30\n",
      "10 x 4 = 40\n",
      "10 x 5 = 50\n",
      "10 x 6 = 60\n",
      "10 x 7 = 70\n",
      "10 x 8 = 80\n",
      "10 x 9 = 90\n",
      "10 x 10 = 100\n"
     ]
    }
   ],
   "source": [
    "try:\n",
    "   numbers = int(input('Enter your desired time table number: '))\n",
    "   endpoint = int(input('Enter your time table endpoint: '))\n",
    "   for x in range(endpoint):\n",
    "      print(f'{numbers} x {x} =', numbers*x)\n",
    "except:\n",
    "    print('Oops! only numbers are allowed')"
   ]
  },
  {
   "cell_type": "code",
   "execution_count": null,
   "metadata": {},
   "outputs": [
    {
     "name": "stdout",
     "output_type": "stream",
     "text": [
      "                                               2022\n",
      "\n",
      "      January                   February                   March                     April\n",
      "Mo Tu We Th Fr Sa Su      Mo Tu We Th Fr Sa Su      Mo Tu We Th Fr Sa Su      Mo Tu We Th Fr Sa Su\n",
      "                1  2          1  2  3  4  5  6          1  2  3  4  5  6                   1  2  3\n",
      " 3  4  5  6  7  8  9       7  8  9 10 11 12 13       7  8  9 10 11 12 13       4  5  6  7  8  9 10\n",
      "10 11 12 13 14 15 16      14 15 16 17 18 19 20      14 15 16 17 18 19 20      11 12 13 14 15 16 17\n",
      "17 18 19 20 21 22 23      21 22 23 24 25 26 27      21 22 23 24 25 26 27      18 19 20 21 22 23 24\n",
      "24 25 26 27 28 29 30      28                        28 29 30 31               25 26 27 28 29 30\n",
      "31\n",
      "\n",
      "        May                       June                      July                     August\n",
      "Mo Tu We Th Fr Sa Su      Mo Tu We Th Fr Sa Su      Mo Tu We Th Fr Sa Su      Mo Tu We Th Fr Sa Su\n",
      "                   1             1  2  3  4  5                   1  2  3       1  2  3  4  5  6  7\n",
      " 2  3  4  5  6  7  8       6  7  8  9 10 11 12       4  5  6  7  8  9 10       8  9 10 11 12 13 14\n",
      " 9 10 11 12 13 14 15      13 14 15 16 17 18 19      11 12 13 14 15 16 17      15 16 17 18 19 20 21\n",
      "16 17 18 19 20 21 22      20 21 22 23 24 25 26      18 19 20 21 22 23 24      22 23 24 25 26 27 28\n",
      "23 24 25 26 27 28 29      27 28 29 30               25 26 27 28 29 30 31      29 30 31\n",
      "30 31\n",
      "\n",
      "     September                  October                   November                  December\n",
      "Mo Tu We Th Fr Sa Su      Mo Tu We Th Fr Sa Su      Mo Tu We Th Fr Sa Su      Mo Tu We Th Fr Sa Su\n",
      "          1  2  3  4                      1  2          1  2  3  4  5  6                1  2  3  4\n",
      " 5  6  7  8  9 10 11       3  4  5  6  7  8  9       7  8  9 10 11 12 13       5  6  7  8  9 10 11\n",
      "12 13 14 15 16 17 18      10 11 12 13 14 15 16      14 15 16 17 18 19 20      12 13 14 15 16 17 18\n",
      "19 20 21 22 23 24 25      17 18 19 20 21 22 23      21 22 23 24 25 26 27      19 20 21 22 23 24 25\n",
      "26 27 28 29 30            24 25 26 27 28 29 30      28 29 30                  26 27 28 29 30 31\n",
      "                          31\n",
      "\n"
     ]
    }
   ],
   "source": [
    "from calendar import calendar\n",
    "\n",
    "year = 2022\n",
    "column = 4\n",
    "print(calendar(theyear = year, m = column))"
   ]
  },
  {
   "cell_type": "code",
   "execution_count": null,
   "metadata": {},
   "outputs": [
    {
     "name": "stdout",
     "output_type": "stream",
     "text": [
      "15\n",
      "19\n"
     ]
    }
   ],
   "source": [
    "p = 15\n",
    "\n",
    "while p < 20:\n",
    "    print(p)\n",
    "    p = p + 4"
   ]
  },
  {
   "cell_type": "code",
   "execution_count": null,
   "metadata": {},
   "outputs": [
    {
     "name": "stdout",
     "output_type": "stream",
     "text": [
      "Sorry, incorrect email.\n"
     ]
    }
   ],
   "source": [
    "import re\n",
    "\n",
    "# write a program to create a registration page.\n",
    "#  the page must have a password validation that accepts special characters and numbers.\n",
    "\n",
    "\n",
    "first_name = input('Enter your first name: ').capitalize()\n",
    "last_name = input('Enter your last name: ').capitalize()\n",
    "username = input('Enter your username: ').capitalize()\n",
    "password = input('Enter your password: ')\n",
    "if re.findall('[A-Za-z0-9.!@#$%^&*()_+]', password):\n",
    "        email = input('Enter your email: ')\n",
    "        if re.findall('[A-Za-z0-9._-]+@[A-Za-z0-9.-_]+\\.[A-Za-z0-9]', email):\n",
    "            print(f'Hello {first_name} {last_name}, Your email ({email}) and password ({password}) meets the requirement, your credentials will be sent to your email.')\n",
    "        else:\n",
    "            print('Sorry, incorrect email.')\n",
    "else:\n",
    "        print('Your password doesn\\'t meet our requirements.')\n",
    "\n"
   ]
  },
  {
   "cell_type": "code",
   "execution_count": null,
   "metadata": {},
   "outputs": [
    {
     "ename": "TypeError",
     "evalue": "expected string or bytes-like object",
     "output_type": "error",
     "traceback": [
      "\u001b[1;31m---------------------------------------------------------------------------\u001b[0m",
      "\u001b[1;31mTypeError\u001b[0m                                 Traceback (most recent call last)",
      "Cell \u001b[1;32mIn [12], line 2\u001b[0m\n\u001b[0;32m      1\u001b[0m websites \u001b[39m=\u001b[39m [\u001b[39m'\u001b[39m\u001b[39mhdfhdhdh.com\u001b[39m\u001b[39m'\u001b[39m, \u001b[39m'\u001b[39m\u001b[39mhirytuitufvbhfrygr.com\u001b[39m\u001b[39m'\u001b[39m, \u001b[39m'\u001b[39m\u001b[39mhifdhireru.\u001b[39m\u001b[39m'\u001b[39m, \u001b[39m'\u001b[39m\u001b[39muriuruhiru. com\u001b[39m\u001b[39m'\u001b[39m]\n\u001b[1;32m----> 2\u001b[0m ok \u001b[39m=\u001b[39m re\u001b[39m.\u001b[39mfindall(\u001b[39m'\u001b[39m\u001b[39m\\\u001b[39m\u001b[39mS+\u001b[39m\u001b[39m\\\u001b[39m\u001b[39m.com\u001b[39m\u001b[39m'\u001b[39m, websites)\n\u001b[0;32m      3\u001b[0m \u001b[39mprint\u001b[39m(ok)\n",
      "File \u001b[1;32mC:\\Program Files\\WindowsApps\\PythonSoftwareFoundation.Python.3.10_3.10.2288.0_x64__qbz5n2kfra8p0\\lib\\re.py:240\u001b[0m, in \u001b[0;36mfindall\u001b[1;34m(pattern, string, flags)\u001b[0m\n\u001b[0;32m    232\u001b[0m \u001b[39mdef\u001b[39;00m \u001b[39mfindall\u001b[39m(pattern, string, flags\u001b[39m=\u001b[39m\u001b[39m0\u001b[39m):\n\u001b[0;32m    233\u001b[0m     \u001b[39m\"\"\"Return a list of all non-overlapping matches in the string.\u001b[39;00m\n\u001b[0;32m    234\u001b[0m \n\u001b[0;32m    235\u001b[0m \u001b[39m    If one or more capturing groups are present in the pattern, return\u001b[39;00m\n\u001b[1;32m   (...)\u001b[0m\n\u001b[0;32m    238\u001b[0m \n\u001b[0;32m    239\u001b[0m \u001b[39m    Empty matches are included in the result.\"\"\"\u001b[39;00m\n\u001b[1;32m--> 240\u001b[0m     \u001b[39mreturn\u001b[39;00m _compile(pattern, flags)\u001b[39m.\u001b[39;49mfindall(string)\n",
      "\u001b[1;31mTypeError\u001b[0m: expected string or bytes-like object"
     ]
    }
   ],
   "source": [
    "websites = ['hdfhdhdh.com', 'hirytuitufvbhfrygr.com', 'hifdhireru.', 'uriuruhiru. com']\n",
    "ok = re.findall('\\S+\\.com', websites)\n",
    "print(ok)"
   ]
  },
  {
   "cell_type": "code",
   "execution_count": null,
   "metadata": {},
   "outputs": [
    {
     "name": "stdout",
     "output_type": "stream",
     "text": [
      "Congratulations, your password meets with our requirement.\n"
     ]
    }
   ],
   "source": [
    "import re\n",
    "\n",
    "password_val = '[A-Za-z0-9.!@#$%^&*()_+=]'\n",
    "\n",
    "\n",
    "def password_checker(password):\n",
    "    if re.search(password_val, password):\n",
    "        print(f'Congratulations, your password meets with our requirement.')\n",
    "    else:\n",
    "        print('Sorry, your password doesn\\'t meet our requirement.')\n",
    "password_checker(input('Enter your password.'))"
   ]
  },
  {
   "cell_type": "code",
   "execution_count": null,
   "metadata": {},
   "outputs": [
    {
     "ename": "TypeError",
     "evalue": "__init__() should return None, not 'str'",
     "output_type": "error",
     "traceback": [
      "\u001b[1;31m---------------------------------------------------------------------------\u001b[0m",
      "\u001b[1;31mTypeError\u001b[0m                                 Traceback (most recent call last)",
      "Cell \u001b[1;32mIn [8], line 10\u001b[0m\n\u001b[0;32m      7\u001b[0m         \u001b[39mself\u001b[39m\u001b[39m.\u001b[39mpower \u001b[39m=\u001b[39m power\n\u001b[0;32m      8\u001b[0m         \u001b[39mreturn\u001b[39;00m power\n\u001b[1;32m---> 10\u001b[0m ok \u001b[39m=\u001b[39m SuperPower(\u001b[39m'\u001b[39m\u001b[39mOK\u001b[39m\u001b[39m'\u001b[39m)\n\u001b[0;32m     11\u001b[0m ok\u001b[39m.\u001b[39mflash\n",
      "\u001b[1;31mTypeError\u001b[0m: __init__() should return None, not 'str'"
     ]
    }
   ],
   "source": [
    "class SuperPower:\n",
    "    superman = 'Very good'\n",
    "    batman = 'good'\n",
    "    flash = 'very talented'\n",
    "\n",
    "    def __init__(self,power):\n",
    "        self.power = power\n",
    "        return power\n",
    "\n",
    "ok = SuperPower('OK')\n",
    "ok.flash"
   ]
  },
  {
   "cell_type": "code",
   "execution_count": null,
   "metadata": {},
   "outputs": [
    {
     "name": "stdout",
     "output_type": "stream",
     "text": [
      "Original String: fgjfjg\n",
      "f\n",
      "j\n",
      "j\n"
     ]
    }
   ],
   "source": [
    "# accept input string from a user\n",
    "word = input('Enter word ')\n",
    "print(\"Original String:\", word)\n",
    "\n",
    "# using list slicing\n",
    "# convert string to list\n",
    "# pick only even index chars\n",
    "x = list(word)\n",
    "for i in x[0::2]:\n",
    "    print(i)"
   ]
  },
  {
   "cell_type": "code",
   "execution_count": null,
   "metadata": {},
   "outputs": [
    {
     "name": "stdout",
     "output_type": "stream",
     "text": [
      "p\n",
      "n\n",
      "t\n",
      "v\n"
     ]
    }
   ],
   "source": [
    "str = 'pynative'\n",
    "for i in str[0::2]:\n",
    "    print(i)"
   ]
  },
  {
   "cell_type": "code",
   "execution_count": null,
   "metadata": {},
   "outputs": [
    {
     "name": "stdout",
     "output_type": "stream",
     "text": [
      "True\n"
     ]
    }
   ],
   "source": [
    "numbers_x = [10, 20, 30, 40, 10]\n",
    "numbers_y = [75, 65, 35, 75, 30]\n",
    "\n",
    "first = 10\n",
    "last = 10\n",
    "\n",
    "if first and last:\n",
    "    print('True')\n",
    "else:\n",
    "    print('False')"
   ]
  },
  {
   "cell_type": "code",
   "execution_count": null,
   "metadata": {},
   "outputs": [
    {
     "name": "stdout",
     "output_type": "stream",
     "text": [
      "10.0\n"
     ]
    }
   ],
   "source": [
    "# Percentage of a number\n",
    "# number * percentage / 100\n",
    "a = 100*10/100\n",
    "print(a)"
   ]
  },
  {
   "cell_type": "code",
   "execution_count": null,
   "metadata": {},
   "outputs": [
    {
     "data": {
      "text/plain": [
       "'Username () not found.'"
      ]
     },
     "execution_count": 5,
     "metadata": {},
     "output_type": "execute_result"
    }
   ],
   "source": [
    "database = {\n",
    "    'username': ['password', 'email'],\n",
    "    'emeka': ['202020', 'emeka2022@gmail.com'],\n",
    "    'benita': ['404040', 'benita2022@gmail.com']\n",
    "}\n",
    "\n",
    "try:\n",
    "    def users():\n",
    "        username = input('Enter your username: ')\n",
    "        if username in database:\n",
    "            try:\n",
    "                password = int(input('Enter your password: '))\n",
    "                if password in database[username][0]:\n",
    "                    email = input('Enter your email: ')\n",
    "                    if email in database[username][1]:\n",
    "                        return f'All your credentials are correct, you will be redirected to your dashboard in few seconds.'\n",
    "                    else:\n",
    "                        return f'Ienvalid email provided. ({email})'\n",
    "                else:\n",
    "                    return f'Invalid password provided ({password})'\n",
    "            except:\n",
    "                return 'Oops! your password must be numbers only.'\n",
    "        else:\n",
    "            return f'Username ({username}) not found.'\n",
    "except:\n",
    "    print('Sorry, you encountered an error.')\n",
    "users()\n"
   ]
  },
  {
   "cell_type": "code",
   "execution_count": null,
   "metadata": {},
   "outputs": [
    {
     "data": {
      "text/plain": [
       "'Correct, the total sum of 410 + 204 is 614 ✅'"
      ]
     },
     "execution_count": 15,
     "metadata": {},
     "output_type": "execute_result"
    }
   ],
   "source": [
    "import random\n",
    "from math import *\n",
    "import time\n",
    "\n",
    "def Game():\n",
    "    a = random.randint(20,300)\n",
    "    b = random.randint(200,300)\n",
    "    ans = a + b\n",
    "    a1 = ans \n",
    "    a2 = a1 + b\n",
    "   \n",
    "    enter = int(input(f'Enter the total sum of {a} + {b}'))\n",
    "    if enter == ans:\n",
    "        enter2 = int(input(f'Enter the total sum of {a1} + {b}'))\n",
    "        if enter2 == a2:\n",
    "           return f'Correct, the total sum of {a1} + {b} is {a2} ✅'\n",
    "        else:\n",
    "            print(f'Oops! {a1} + {b} is not {enter2} ❌ the correct answer is ', a1+b)\n",
    "    else:\n",
    "        print(f'Oops! {a} + {b} is not {enter} ❌ the correct answer is', a+b)\n",
    "\n",
    "Game()\n",
    "\n",
    "        "
   ]
  },
  {
   "cell_type": "code",
   "execution_count": null,
   "metadata": {},
   "outputs": [
    {
     "name": "stdout",
     "output_type": "stream",
     "text": [
      "You have successfully withdrawn $46474\n",
      "Your account balance is $3222\n",
      "sorry, you cannot transfer 74657 to 746565748\n",
      "Invalid option.\n"
     ]
    }
   ],
   "source": [
    "class ATM:\n",
    "    def __init__(self):\n",
    "\n",
    "        self.atm_pin = {\n",
    "            'pin1': '1757',\n",
    "            'pin2': '3409',\n",
    "            'pin3': '9124'\n",
    "        }\n",
    "\n",
    "\n",
    "class Withdrawal:\n",
    "    def __init__(self):\n",
    "        try:\n",
    "            self.withdrawal = int(input('How much do you want to withdraw? '))\n",
    "            print(f'You have successfully withdrawn ${self.withdrawal}')\n",
    "        except:\n",
    "            print('Sorry, your withdrawal must be in digits not letters.')\n",
    "\n",
    "\n",
    "class Balance(Withdrawal):\n",
    "    def __init__(self):\n",
    "        self.balance = random.randint(3000, 100000)\n",
    "        print(f'Your account balance is ${self.balance}')\n",
    "\n",
    "\n",
    "class Transfer(Balance):\n",
    "    def __init__(self):\n",
    "        self.transfer = int(\n",
    "            input('Enter the account number you want to send to: '))\n",
    "        self.amount = int(\n",
    "            input(f'Enter the amount you want to transfer to {self.transfer}: '))\n",
    "        self.verify = input(\n",
    "            f'Are you sure you want to transfer ${self.amount} to this account number? {self.transfer}, enter Yes or No: ').capitalize()\n",
    "        if self.verify == 'Yes':\n",
    "            print(\n",
    "                f'You have successfully transfered ${self.amount} to {self.transfer}')\n",
    "        elif self.verify == 'No':\n",
    "            print(\n",
    "                f'sorry, you cannot transfer ${self.amount} to {self.transfer}')\n",
    "        else:\n",
    "            print('Invalid option.')\n",
    "\n",
    "\n",
    "class Operation(Transfer):\n",
    "    def __init__(self):\n",
    "        self.options = int(input(\n",
    "            'Perform an operation: enter 1 for withdrawal \\n enter 2 for transfer \\n enter 3 for balance: '))\n",
    "        if self.options == 1:\n",
    "            print(self.withdrawal)\n",
    "        elif self.options == 2:\n",
    "            print(self.transfer)\n",
    "        elif self.options == 3:\n",
    "            print(self.balance)\n",
    "        else:\n",
    "            print('Invalid option.')\n",
    "\n",
    "\n",
    "class User(ATM,Operation):\n",
    "    \n",
    "    \n",
    "    def user_ok(self):\n",
    "        print('WELCOME TO GHOST BANK')\n",
    "        try:\n",
    "            pin = int(input('Enter your ATM pin: '))\n",
    "            for x, y in self.atm_pin.items():\n",
    "                if pin == y:\n",
    "                    return self.options\n",
    "                else:\n",
    "                    return f'Oops, your pin ({pin}) wasn\\'t found on our database.'\n",
    "        except:\n",
    "            return 'Sorry, your atm pin must be number only.'\n",
    "\n",
    "\n",
    "atm = ATM()\n",
    "withd = Withdrawal()\n",
    "balan = Balance()\n",
    "trans = Transfer()\n",
    "oper = Operation()\n",
    "user = User()\n",
    "\n"
   ]
  },
  {
   "cell_type": "code",
   "execution_count": null,
   "metadata": {},
   "outputs": [
    {
     "name": "stdout",
     "output_type": "stream",
     "text": [
      "WELCOME TO GHOST BANK\n"
     ]
    },
    {
     "data": {
      "text/plain": [
       "\"Oops, your pin (1757) wasn't found on our database.\""
      ]
     },
     "execution_count": 3,
     "metadata": {},
     "output_type": "execute_result"
    }
   ],
   "source": [
    "import random\n",
    "\n",
    "class ATM:\n",
    "    def __init__(self):\n",
    "    \n",
    "        self.atm_pin = {\n",
    "            'pin1': '1757',\n",
    "            'pin2': '3409',\n",
    "            'pin3': '9124'\n",
    "        }\n",
    "\n",
    "\n",
    "class Withdrawal:\n",
    "    def __init__(self):\n",
    "        try:\n",
    "            self.withdrawal = int(input('How much do you want to withdraw? '))\n",
    "            print(f'You have successfully withdrawn ${self.withdrawal}, take your cash.')\n",
    "        except:\n",
    "            print('Sorry, your withdrawal must be in digits not letters.')\n",
    "\n",
    "\n",
    "class Balance:\n",
    "    def __init__(self):\n",
    "        self.balance = random.randint(3000, 100000)\n",
    "        print(f'Your account balance is ${self.balance}')\n",
    "\n",
    "\n",
    "class Transfer:\n",
    "    def __init__(self):\n",
    "        self.transfer = int(\n",
    "            input('Enter the account number you want to send to: '))\n",
    "        self.amount = int(\n",
    "            input(f'Enter the amount you want to transfer to {self.transfer}: '))\n",
    "        self.verify = input(\n",
    "            f'Are you sure you want to transfer ${self.amount} to this account number? {self.transfer}, enter Yes or No: ').capitalize()\n",
    "        if self.verify == 'Yes':\n",
    "            print(\n",
    "                f'You have successfully transfered ${self.amount} to {self.transfer}')\n",
    "        elif self.verify == 'No':\n",
    "            print(\n",
    "                f'sorry, you cannot transfer ${self.amount} to {self.transfer}')\n",
    "        else:\n",
    "            print('Invalid option.')\n",
    "\n",
    "\n",
    "class Operation(Withdrawal,Transfer,Balance):\n",
    "    def __init__(self):\n",
    "        self.options = int(input(\n",
    "            'Perform an operation: enter 1 for withdrawal \\n enter 2 for transfer \\n enter 3 for balance: '))\n",
    "        if self.options == 1:\n",
    "            print(self.withdrawal)\n",
    "        elif self.options == 2:\n",
    "            print(self.transfer)\n",
    "        elif self.options == 3:\n",
    "            print(self.balance)\n",
    "        else:\n",
    "            print('Invalid option.')\n",
    "\n",
    "\n",
    "class User(ATM,Operation):\n",
    "    \n",
    "    \n",
    "    def user_ok(self):\n",
    "        ATM.__init__(self)\n",
    "        print('WELCOME TO GHOST BANK')\n",
    "        try:\n",
    "            pin = int(input('Enter your ATM pin: '))\n",
    "            for x,y in self.atm_pin.items():\n",
    "                if pin == y:\n",
    "                    return self.options\n",
    "                else:\n",
    "                    return f'Oops, your pin ({pin}) wasn\\'t found on our database.'\n",
    "        except:\n",
    "            return 'Sorry, your atm pin must be number only.'\n",
    "\n",
    "\n",
    "obj = User()\n",
    "obj.user_ok()\n",
    "\n",
    "\n"
   ]
  },
  {
   "cell_type": "code",
   "execution_count": null,
   "metadata": {},
   "outputs": [
    {
     "name": "stdout",
     "output_type": "stream",
     "text": [
      "Incorrect answer (hrhr). the correct answer of 10 + 11 is 21\n",
      "Incorrect answer (jejf). the correct answer of 6 + 14 is 20\n",
      "You have successfully exited the game.\n"
     ]
    }
   ],
   "source": [
    "# if you are tired of the game, enter done to stop.\n",
    "\n",
    "import random\n",
    "\n",
    "\n",
    "\n",
    "while True:\n",
    "    a = random.randint(5,10)\n",
    "    b = random.randint(10,15)\n",
    "    ans = a+b\n",
    "\n",
    "    enter = input(f'What is the sum of {a} + {b}?: ').lower()\n",
    "    if enter == a+b:\n",
    "        print(f'Your answer ({enter}) is correct ✅, the sum of {a} + {b} is', ans)\n",
    "    try:\n",
    "      if enter == 'done':\n",
    "        print('You have successfully exited the game.')\n",
    "        break\n",
    "    except:\n",
    "            print('Only numbers are allowed.')\n",
    "    else:\n",
    "        print(f'Incorrect answer ({enter}). the correct answer of {a} + {b} is {ans}')\n"
   ]
  },
  {
   "cell_type": "code",
   "execution_count": null,
   "metadata": {},
   "outputs": [],
   "source": [
    "# ATM MACHINE\n",
    "import random\n",
    "\n",
    "atm_pin = [\"2908\", \"5321\", \"7890\", \"5674\", \"7798\"]\n",
    "\n",
    "try:\n",
    "    def Atm():\n",
    "        print('WELCOME TO GHOST BANK')\n",
    "        pin = input('Enter your ATM pin: ')\n",
    "        if pin in atm_pin:\n",
    "            operation = int(input(\n",
    "                'Perform an operation. Enter 1 for withdrawal \\n enter 2 for transfer \\n enter 3 for account balance'))\n",
    "            if operation == 1:\n",
    "                withdraw = int(input('How much do you want to withdraw? '))\n",
    "                print(\n",
    "                    f'You have successfully withdrawn ${withdraw}, take your cash.')\n",
    "            elif operation == 2:\n",
    "                transfer = int(\n",
    "                    input('Enter the accout number you want to transfer to: '))\n",
    "                amount = int(\n",
    "                    input(f'Enter the amount you want to send to {transfer}'))\n",
    "                verify = input(\n",
    "                    f'Are you sure you want to send ${amount} to {transfer}? enter yes or no').lower()\n",
    "                if verify == 'yes':\n",
    "                    print(\n",
    "                        f'You have successfully sent ${amount} to {transfer}.')\n",
    "                elif verify == 'no':\n",
    "                    print(\n",
    "                        f'You cannot transfer ${amount} to {transfer} at the moment.')\n",
    "                else:\n",
    "                    return 'Invalid command.'\n",
    "            elif operation == 3:\n",
    "                return f'Your account balance is ${random.randint(5000,17000)}'\n",
    "            else:\n",
    "                return 'Invalid command.'\n",
    "        else:\n",
    "            return f'Your pin ({pin}) wasn\\'t found in our database.'\n",
    "except:\n",
    "    print('You encountered an error.')\n",
    "\n",
    "\n"
   ]
  },
  {
   "cell_type": "code",
   "execution_count": null,
   "metadata": {},
   "outputs": [
    {
     "name": "stdout",
     "output_type": "stream",
     "text": [
      "WELCOME TO GHOST BANK\n",
      "You have successfully sent $15000 to 2103681140.\n"
     ]
    }
   ],
   "source": [
    "Atm()"
   ]
  },
  {
   "cell_type": "code",
   "execution_count": null,
   "metadata": {},
   "outputs": [
    {
     "name": "stdout",
     "output_type": "stream",
     "text": [
      "0\n",
      "1\n",
      "2\n",
      "3\n",
      "4\n"
     ]
    }
   ],
   "source": [
    "import time\n",
    "\n",
    "for i in range(5):\n",
    "    print(i)\n",
    "    time.sleep(5)"
   ]
  },
  {
   "cell_type": "code",
   "execution_count": 3,
   "metadata": {},
   "outputs": [
    {
     "data": {
      "text/plain": [
       "'The Binary number of 300 is 100101100'"
      ]
     },
     "execution_count": 3,
     "metadata": {},
     "output_type": "execute_result"
    }
   ],
   "source": [
    "# Write a program to print out the binary number of a user's input\n",
    "\n",
    "\n",
    "def Binary():\n",
    "    try:\n",
    "       enter = int(input('Enter a number to print out the binary of the number: '))\n",
    "       if enter != '':\n",
    "         return f'The Binary number of {enter} is {(bin(enter))[2:]}'\n",
    "       else:\n",
    "        return 'Your input cannot be empty'\n",
    "    except:\n",
    "        return 'You can only return the binary of a number.'\n",
    "Binary()"
   ]
  },
  {
   "cell_type": "code",
   "execution_count": 1,
   "metadata": {},
   "outputs": [
    {
     "data": {
      "text/plain": [
       "\"Hello Victor you were born in 2000 and you're 23 years old. 😎\""
      ]
     },
     "execution_count": 1,
     "metadata": {},
     "output_type": "execute_result"
    }
   ],
   "source": [
    "from datetime import date\n",
    "\n",
    "\n",
    "today_date = date.today()\n",
    "today_date.year\n",
    "\n",
    "\n",
    "\n",
    "def Age():\n",
    "    try:\n",
    "       today_date = date.today()\n",
    "       name = input('Enter your name: ').capitalize()\n",
    "       year_of_birth = int(input('Enter the year you were born: '))\n",
    "       age = today_date.year - year_of_birth\n",
    "       return f'Hello {name} you were born in {year_of_birth} and you\\'re {age} years old. 😎'\n",
    "    except:\n",
    "        return 'The year you were born must be numbers only.'\n",
    "Age()"
   ]
  },
  {
   "cell_type": "code",
   "execution_count": 2,
   "metadata": {},
   "outputs": [
    {
     "name": "stdout",
     "output_type": "stream",
     "text": [
      "5\n",
      "10\n",
      "15\n",
      "20\n"
     ]
    }
   ],
   "source": [
    "ok = 0\n",
    "\n",
    "while ok < 20:\n",
    "    ok +=5\n",
    "    print(ok)"
   ]
  },
  {
   "cell_type": "code",
   "execution_count": 1,
   "metadata": {},
   "outputs": [
    {
     "name": "stdout",
     "output_type": "stream",
     "text": [
      "Below are the books we have\n",
      "To Kill a Mockingbird\n",
      "Invalid selection.\n",
      "Password (12345) doesn't exist in our database\n"
     ]
    }
   ],
   "source": [
    "database = {\n",
    "    'Ghost': 12345,\n",
    "    'Bolt': 404040\n",
    "}\n",
    "\n",
    "\n",
    "book1 = ['To Kill a Mockingbird', 'Pride and Prejudice', 'Jane Eyre', 'The Great Gatsby',\n",
    "         '1984 (Paperback)', 'Wuthering Heights', 'The Grapes of Wrath', 'The Rock', 'Aging', 'Ghost']\n",
    "\n",
    "book2 = ['The Train', 'The Batch', 'The Foody',\n",
    "         'Hell Gate', 'Journey of No Mercy']\n",
    "\n",
    "try:\n",
    "\n",
    "    username = input('Enter your username: ').capitalize()\n",
    "    if username in database:\n",
    "        password = int(input('Enter your password: '))\n",
    "        for x, y in database.items():\n",
    "            if password == y:\n",
    "                print('Below are the books we have')\n",
    "                for x in book1:\n",
    "                    print(x)\n",
    "                    break\n",
    "\n",
    "                more_books = input(\n",
    "                    'Enter Yes to see more books /n Enter No to abort: ').capitalize()\n",
    "                if more_books == 'Yes':\n",
    "                    for i in book2:\n",
    "                        print(i)\n",
    "                        break\n",
    "                elif more_books == 'No':\n",
    "                    print('You have successfully aborted.')\n",
    "                else:\n",
    "                    print('Invalid selection.')\n",
    "            else:\n",
    "                print(f'Password ({password}) doesn\\'t exist in our database')\n",
    "    else:\n",
    "        print(f'Your username ({username}) doesn\\'t exist in our database')\n",
    "except:\n",
    "    print('You encountered an error.')\n"
   ]
  },
  {
   "cell_type": "code",
   "execution_count": 5,
   "metadata": {},
   "outputs": [
    {
     "name": "stdout",
     "output_type": "stream",
     "text": [
      "Welcome To Ghost 👻 Libary\n",
      " How can we assist you?\n",
      " 1) Sign up\n",
      " 2) Login\n",
      "Hello, Welcome to Ghost library login page. \n",
      " Enter \"Cancel to abort the operation\"\n",
      "Checking your credentials, kindly hold on...\n",
      "Login successful....\n",
      "Hello Ghost, Welcome back 😎. You have successfully logged in.\n",
      "\n",
      "    These are the services we provide to our users.\n",
      "    1)Search for Books 📕\n",
      "    2)Buy Books 📕\n",
      "    3)View Books 📕\n",
      "You can only select category with numbers.\n",
      "Enter the title of the book to search\n",
      "Your Search:  is pocessing...\n",
      "Search completed ✅\n",
      "We don't have this book: .\n"
     ]
    }
   ],
   "source": [
    "import time\n",
    "import random\n",
    "\n",
    "username = ['Ghost']\n",
    "password = ['12345']\n",
    "first_name = []\n",
    "last_name = []\n",
    "email = []\n",
    "\n",
    "last_index = 0\n",
    "\n",
    "\n",
    "def view_book():\n",
    "    global last_index\n",
    "    nex_index = last_index + 10\n",
    "    print(libary_db[last_index:nex_index])\n",
    "    last_index = nex_index\n",
    "\n",
    "\n",
    "libary_db = [\n",
    "\n",
    "    {\"Title\": \"Northanger abbey\",\n",
    "     \"Author\": \"Austen, jane\",\n",
    "     \"Year\": 1814,\n",
    "     \"Edition\": \"Penguin\",\n",
    "     \"Price\":  '$18.2'},\n",
    "\n",
    "    {\"Author\": \"Chinua achebe\",\n",
    "     \"Edition\": \"Penguin\",\n",
    "     \"Price\": '$30',\n",
    "     \"Title\": \"Things fall apart\",\n",
    "     \"Year\": \"Released in 1958\"},\n",
    "\n",
    "    {\"Title\": \"War and peace\",\n",
    "     \"Author\": \"Tolstoy, leo\",\n",
    "     \"Year\": 1865,\n",
    "     \"Edition\": \"Penguin\",\n",
    "     \"Price\":  '$12.7'},\n",
    "\n",
    "    {\"Title\": \"Anna karenina\",\n",
    "     \"Author\": \"Tolstoy, leo\",\n",
    "     \"Year\": 1875,\n",
    "     \"Edition\": \"Penguin\",\n",
    "     \"Price\":  '$13.5'},\n",
    "\n",
    "    {\"Title\": \"Mrs. dalloway\",\n",
    "     \"Author\": \"Woolf, virginia\",\n",
    "     \"Year\": 1925,\n",
    "     \"Edition\": \"Harcourt brace\",\n",
    "     \"Price\":  '$25'},\n",
    "\n",
    "    {\"Title\": \"The hours\",\n",
    "     \"Author\": \"Cunnningham, michael\",\n",
    "     \"Year\": 1999,\n",
    "     \"Edition\": \"Harcourt brace\",\n",
    "     \"Price\":  '$12.35'},\n",
    "\n",
    "    {\"Title\": \"Huckleberry finn\",\n",
    "     \"Author\": \"Twain, mark\",\n",
    "     \"Year\": 1865,\n",
    "     \"Edition\": \"Penguin\",\n",
    "     \"Price\":  '$5.76'},\n",
    "\n",
    "    {\"Title\": \"Bleak house\",\n",
    "     \"Author\": \"Dickens, charles\",\n",
    "     \"Year\": 1870,\n",
    "     \"Edition\": \"Random house\",\n",
    "     \"Price\":  '$5.75'},\n",
    "\n",
    "    {\"Title\": \"Tom sawyer\",\n",
    "     \"Author\": \"Twain, mark\",\n",
    "     \"Year\": 1862,\n",
    "     \"Edition\": \"Random house\",\n",
    "     \"Price\":  '$7.75'},\n",
    "\n",
    "    {\"Title\": \"A room of one's own\",\n",
    "     \"Author\": \"Woolf, virginia\",\n",
    "     \"Year\": 1922,\n",
    "     \"Edition\": \"Penguin\",\n",
    "     \"Price\":  '$29'},\n",
    "\n",
    "    {\"Title\": \"Harry potter\",\n",
    "     \"Author\": \"Rowling, j.k.\",\n",
    "     \"Year\": 2000,\n",
    "     \"Edition\": \"Harcourt brace\",\n",
    "     \"Price\":  '$19.95'},\n",
    "\n",
    "    {\"Title\": \"One hundred years of solitude\",\n",
    "     \"Author\": \"Marquez\",\n",
    "     \"Year\": 1967,\n",
    "     \"Edition\": \"Harper  perennial\",\n",
    "     \"Price\":  '$14.00'},\n",
    "\n",
    "    {\"Title\": \"Hamlet, prince of denmark\",\n",
    "     \"Author\": \"Shakespeare\",\n",
    "     \"Year\": 1603,\n",
    "     \"Edition\": \"Signet  classics\",\n",
    "     \"Price\":  '$7.95'},\n",
    "\n",
    "    {\"Title\": \"Lord of the rings\",\n",
    "     \"Author\": \"Tolkien, j.r.\",\n",
    "     \"Year\": 1937,\n",
    "     \"Edition\": \"Penguin\",\n",
    "     \"Price\":  '$27.45'}\n",
    "]\n",
    "\n",
    "\n",
    "def services():\n",
    "    service = \"\"\"\n",
    "    These are the services we provide to our users.\n",
    "    1)Search for Books 📕\n",
    "    2)Buy Books 📕\n",
    "    3)View Books 📕\"\"\"\n",
    "    print(service)\n",
    "\n",
    "\n",
    "def registeration():\n",
    "    welcome = \"\"\"Welcome To Ghost 👻 Libary\n",
    " How can we assist you?\n",
    " 1) Sign up\n",
    " 2) Login\"\"\"\n",
    "    print(welcome)\n",
    "\n",
    "\n",
    "registeration()\n",
    "\n",
    "\n",
    "welcome1 = int(input('Login or Sign up: '))\n",
    "if welcome1 == 1:\n",
    "\n",
    "    fname = input('Enter your first name: ').capitalize()\n",
    "    lname = input('Enter your last name: ').capitalize()\n",
    "    mail = input('Enter your email: ').capitalize()\n",
    "    while True:\n",
    "        uname = input('Enter your username: ').capitalize()\n",
    "        if len(uname) >= 5:\n",
    "            pword = input('Enter your password: ')\n",
    "            if len(pword) >= 5:\n",
    "                first_name.append(fname)\n",
    "                last_name.append(lname)\n",
    "                email.append(mail)\n",
    "                username.append(uname)\n",
    "                password.append(pword)\n",
    "                print(\n",
    "                    'You have successfully registered, below are your credentials....')\n",
    "                time.sleep(5)\n",
    "                print(\n",
    "                    f'First name: {fname} \\n Last name: {lname} \\n Email: {mail} \\n Username: {uname} \\n Password: {pword}')\n",
    "                break\n",
    "            else:\n",
    "                print('Your password must be greater than or equal to 5 characters')\n",
    "\n",
    "        else:\n",
    "            print('Your username must be greater than or equal to 5 characters.')\n",
    "\n",
    "\n",
    "elif welcome1 == 2:\n",
    "\n",
    "    print(f'Hello, Welcome to Ghost library login page. \\n Enter \"Cancel to abort the operation\"')\n",
    "    time.sleep(3)\n",
    "    while True:\n",
    "        login_username = input('Enter your username: ').capitalize()\n",
    "        if login_username in username:\n",
    "            login_password = input('Enter your password: ')\n",
    "            if login_password in password:\n",
    "                print('Checking your credentials, kindly hold on...')\n",
    "                time.sleep(5)\n",
    "                print('Login successful....')\n",
    "                time.sleep(5)\n",
    "                print(\n",
    "                    f'Hello {login_username}, Welcome back 😎. You have successfully logged in.')\n",
    "                services()\n",
    "                time.sleep(5)\n",
    "                try:\n",
    "                 enter = int(input('Select a category: '))\n",
    "                except:\n",
    "                    print('You can only select category with numbers.')\n",
    "                try:\n",
    "                    if enter == 1:\n",
    "                        print('Enter the title of the book to search')\n",
    "                        search_book = input('').capitalize()\n",
    "                        for x in libary_db:\n",
    "                            if x['Title'] == search_book:\n",
    "                                print(\n",
    "                                    f'Your Search: {search_book} is pocessing...')\n",
    "                                time.sleep(5)\n",
    "                                print('Search Completed ✅')\n",
    "                                time.sleep(5)\n",
    "                                print('Title:', x['Title'])\n",
    "                                time.sleep(5)\n",
    "                                print('Author:', x['Author'])\n",
    "                                time.sleep(5)\n",
    "                                print('Year:', x['Year'])\n",
    "                                time.sleep(5)\n",
    "                                print('Edition:', x['Edition'])\n",
    "                                time.sleep(5)\n",
    "                                print('Price:', x['Price'])\n",
    "                                break\n",
    "\n",
    "                            else:\n",
    "                                print(\n",
    "                                    f'Your Search: {search_book} is pocessing...')\n",
    "                                time.sleep(5)\n",
    "                                print('Search completed ✅')\n",
    "                                time.sleep(2)\n",
    "                                print(\n",
    "                                    f'We don\\'t have this book: {search_book}.')\n",
    "                            break\n",
    "                        break\n",
    "                    elif enter == 2:\n",
    "                        print(\n",
    "                            \"Enter the title of the book to buy \\n If it's available, we'll provide you with the book details and price.\")\n",
    "                        buy_book_name = input('').capitalize()\n",
    "                        time.sleep(2)\n",
    "                        for y in libary_db:\n",
    "                            if y['Title'] == buy_book_name:\n",
    "                                print(\n",
    "                                    f'Searching if {buy_book_name} is available...')\n",
    "                                time.sleep(5)\n",
    "                                a = y['Price']\n",
    "                                print(\n",
    "                                    f'Search completed ✅, {buy_book_name} is available with price tag of {a}, do you want to buy?')\n",
    "                                time.sleep(5)\n",
    "                                print(\n",
    "                                    'Enter yes to purchase and enter no to cancel')\n",
    "                                buy = input('').capitalize()\n",
    "                                if buy == 'Yes':\n",
    "                                    print(\n",
    "                                        f'You have successfully purchased {buy_book_name} for', y['Price'])\n",
    "                                    break\n",
    "                                elif buy == 'No':\n",
    "                                    print(\n",
    "                                        f'Transaction for {buy_book_name} cancelled successfully.')\n",
    "                                    break\n",
    "                            else:\n",
    "                                print(\n",
    "                                    f'Searching if {buy_book_name} is available...')\n",
    "                                time.sleep(5)\n",
    "                                print('Search completed ✅')\n",
    "                                time.sleep(2)\n",
    "                                print(\n",
    "                                    f'We don\\'t have this book: {buy_book_name}.')\n",
    "                                break\n",
    "                        break\n",
    "                    elif enter == 3:\n",
    "                        view_book()\n",
    "                        break\n",
    "\n",
    "                    else:\n",
    "                        print(f'Invalid selection ({enter})')\n",
    "                        break\n",
    "                except ValueError:\n",
    "                    print('You can only select a category with number')\n",
    "                continue\n",
    "\n",
    "            elif login_password == 'Cancel' or login_password == 'cancel' or login_password == 'CANCEL':\n",
    "                print('You have successfully aborted the operation')\n",
    "                break\n",
    "            else:\n",
    "                print(f'Password ({login_password}) doesn\\'t exist.')\n",
    "            continue\n",
    "        elif login_username == 'Cancel':\n",
    "            print('You have successfully aborted the operation')\n",
    "            break\n",
    "        else:\n",
    "            print(f'Username ({login_username}) doesn\\'t exist.')\n",
    "        continue\n"
   ]
  }
 ],
 "metadata": {
  "kernelspec": {
   "display_name": "Python 3.10.7 64-bit (microsoft store)",
   "language": "python",
   "name": "python3"
  },
  "language_info": {
   "codemirror_mode": {
    "name": "ipython",
    "version": 3
   },
   "file_extension": ".py",
   "mimetype": "text/x-python",
   "name": "python",
   "nbconvert_exporter": "python",
   "pygments_lexer": "ipython3",
   "version": "3.10.9 (tags/v3.10.9:1dd9be6, Dec  6 2022, 20:01:21) [MSC v.1934 64 bit (AMD64)]"
  },
  "orig_nbformat": 4,
  "vscode": {
   "interpreter": {
    "hash": "df03bcb3db8d02e6db5f4440a27a2981a8328cb8d911b7928a48605e1a88e4d3"
   }
  }
 },
 "nbformat": 4,
 "nbformat_minor": 2
}
