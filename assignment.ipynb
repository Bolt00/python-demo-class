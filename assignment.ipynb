{
 "cells": [
  {
   "cell_type": "code",
   "execution_count": 1,
   "metadata": {},
   "outputs": [],
   "source": [
    "# 1. using while loop, analyze a range of numbers from 1 - 15 and let the output of the loop return even and odd (in number).\n",
    "\n",
    "# 2. Write a python loop to print a series of number.\n",
    "\n",
    "# 3. write a python while loop to convert users defined decimal to binary number."
   ]
  },
  {
   "cell_type": "code",
   "execution_count": 3,
   "metadata": {},
   "outputs": [
    {
     "name": "stdout",
     "output_type": "stream",
     "text": [
      "1\n",
      "even\n",
      "3\n",
      "even\n",
      "5\n",
      "even\n",
      "7\n",
      "even\n",
      "9\n",
      "even\n",
      "11\n",
      "even\n",
      "13\n",
      "even\n",
      "15\n"
     ]
    }
   ],
   "source": [
    "a = 0\n",
    "b = 'even'\n",
    "\n",
    "while a < 15:\n",
    "    a += 1\n",
    "    if a % 2 == 1:\n",
    "     print(a)\n",
    "    else:\n",
    "        print(b)"
   ]
  },
  {
   "cell_type": "code",
   "execution_count": 11,
   "metadata": {},
   "outputs": [
    {
     "name": "stdout",
     "output_type": "stream",
     "text": [
      "250\n",
      "300\n",
      "350\n",
      "400\n",
      "450\n",
      "500\n",
      "550\n",
      "600\n",
      "650\n",
      "700\n",
      "750\n",
      "800\n",
      "850\n",
      "900\n",
      "950\n",
      "1000\n",
      "1050\n"
     ]
    }
   ],
   "source": [
    "a = 200\n",
    "while a in range(a,1050,50):\n",
    "    a += 50\n",
    "\n",
    "    print(a)"
   ]
  },
  {
   "cell_type": "code",
   "execution_count": 14,
   "metadata": {},
   "outputs": [
    {
     "name": "stdout",
     "output_type": "stream",
     "text": [
      "Hello, the binary number of 50 is 110010\n"
     ]
    }
   ],
   "source": [
    "number = int(input('Enter your desired number.'))\n",
    "binary = bin(number)[2:]\n",
    "print(f'Hello, the binary number of {number} is {binary}')"
   ]
  },
  {
   "cell_type": "code",
   "execution_count": null,
   "metadata": {},
   "outputs": [],
   "source": [
    "#1. write a function to find a maximum of 3 numbers.\n",
    "# 2. write a function to find the sum of 2 list\n",
    "# 3. write a function to reverse a string method.\n",
    "# 4. write a python function to check weather a number falls in a given range.\n",
    "# 5. write a function to create and print a list where the values are square of number between 1 and 30.\n",
    "# 6. write a function to access a function inside a function.\n",
    "# 7. Write a function to detect the number of local variables decleared in a given function."
   ]
  },
  {
   "cell_type": "code",
   "execution_count": 50,
   "metadata": {},
   "outputs": [
    {
     "name": "stdout",
     "output_type": "stream",
     "text": [
      "The maximum number of variable a is 1000\n"
     ]
    }
   ],
   "source": [
    "def bolt():\n",
    "    a = [1000,2,500]\n",
    "    b = max(a)\n",
    "    print(f'The maximum number of variable a is {b}')\n",
    "bolt()"
   ]
  },
  {
   "cell_type": "code",
   "execution_count": 5,
   "metadata": {},
   "outputs": [
    {
     "name": "stdout",
     "output_type": "stream",
     "text": [
      "[10, 20]\n"
     ]
    }
   ],
   "source": [
    "def sum():\n",
    "    first_list = [10]\n",
    "    second_list = [20]\n",
    "    print(first_list + second_list)\n",
    "sum()"
   ]
  },
  {
   "cell_type": "code",
   "execution_count": 19,
   "metadata": {},
   "outputs": [
    {
     "name": "stdout",
     "output_type": "stream",
     "text": [
      "yob a si ibO\n"
     ]
    }
   ],
   "source": [
    "def string():\n",
    "    string_method = 'Obi is a boy'\n",
    "    print(string_method[::-1])\n",
    "string()"
   ]
  },
  {
   "cell_type": "code",
   "execution_count": 24,
   "metadata": {},
   "outputs": [
    {
     "name": "stdout",
     "output_type": "stream",
     "text": [
      "Yes, 5 is in range(0, 10)\n"
     ]
    }
   ],
   "source": [
    "def number():\n",
    "    a = 5\n",
    "    b = range(10)\n",
    "    if a in b:\n",
    "        print(f'Yes, {a} is in {b}')\n",
    "number()"
   ]
  },
  {
   "cell_type": "code",
   "execution_count": 3,
   "metadata": {},
   "outputs": [
    {
     "name": "stdout",
     "output_type": "stream",
     "text": [
      "[1, 2, 3, 4, 5, 6, 7, 8, 9, 10, 11, 12, 13, 14, 15, 16, 17, 18, 19, 20, 21, 22, 23, 24, 25, 26, 27, 28, 29, 30]\n"
     ]
    }
   ],
   "source": [
    "def my_list():\n",
    "    my_list2 = range(1,31)\n",
    "    my_list3 = list(my_list2)\n",
    "    print(my_list3)\n",
    "my_list()"
   ]
  },
  {
   "cell_type": "code",
   "execution_count": 46,
   "metadata": {},
   "outputs": [
    {
     "name": "stdout",
     "output_type": "stream",
     "text": [
      "Hello Ghost 😎 you're 30 years old\n"
     ]
    }
   ],
   "source": [
    "def function(name,emoji):\n",
    "    def function2(age):\n",
    "        print(f'Hello {name} {emoji} you\\'re {age} years old')\n",
    "    function2(30)\n",
    "function('Ghost','😎')\n",
    "        "
   ]
  },
  {
   "cell_type": "code",
   "execution_count": 1,
   "metadata": {},
   "outputs": [
    {
     "name": "stdout",
     "output_type": "stream",
     "text": [
      "The total number of local variables in this function are 3 variables\n"
     ]
    }
   ],
   "source": [
    "def variable():\n",
    "    a = 100\n",
    "    b = 200\n",
    "    c = a + b\n",
    "print(f'The total number of local variables in this function are {variable.__code__.co_nlocals} variables')"
   ]
  },
  {
   "cell_type": "code",
   "execution_count": 1,
   "metadata": {},
   "outputs": [],
   "source": [
    "# 1. user login verification.\n",
    "# 2. Assign password for each users.\n",
    "# 3. Add email field to the database and to login method\n",
    "# 4. assign one email to one user\n",
    "# 5. extend your output to another file with python module"
   ]
  },
  {
   "cell_type": "code",
   "execution_count": 2,
   "metadata": {},
   "outputs": [],
   "source": [
    "# Database\n",
    "\n",
    "users = {\n",
    "    \n",
    "    'Benita': \n",
    "    {'username': 'Benita20',\n",
    "    'password': 'Benita2022@',\n",
    "    'email': 'Benita2022@gmail.com'},\n",
    "\n",
    "    'Emeka':\n",
    "    {'username': 'Emeka40',\n",
    "    'password': 'Emeka00@',\n",
    "    'email': 'Emeka2022@gmail.com'},\n",
    "\n",
    "    'Ugochukwu':\n",
    "    {'username': 'Ugochukwu500',\n",
    "    'password': 'Ugochukwu00@',\n",
    "    'email': 'Ugochukwu2022@gmail.com'}\n",
    "}\n",
    "\n",
    "\n",
    "# end of database\n",
    "\n",
    "\n",
    "\n",
    "   \n"
   ]
  },
  {
   "cell_type": "code",
   "execution_count": 7,
   "metadata": {},
   "outputs": [
    {
     "name": "stdout",
     "output_type": "stream",
     "text": [
      "Congratulations, your username (Benita20), password (Be*********) and email (Benita2022@gmail.com) are valid.\n",
      " you will be redirected to your dashboard in few seconds...\n"
     ]
    }
   ],
   "source": [
    "name = input('What is your name?: ').capitalize()\n",
    "username1 = input('Enter your username: ').capitalize()\n",
    "password1 = input('Enter your password: ').capitalize()\n",
    "email1 = input('Enter your email: ').capitalize()\n",
    "a = len(password1[2:])* '*'\n",
    "\n",
    "try:\n",
    "\n",
    "   if username1 in users.get(name).values():\n",
    "     if password1 in users.get(name).values():\n",
    "          if email1 in users.get(name).values():\n",
    "             print(f'Congratulations, your username ({username1}), password ({password1[0:2]}{a}) and email ({email1}) are valid.\\n you will be redirected to your dashboard in few seconds...')\n",
    "          else:\n",
    "              print('Either one of your credentials is not correct and you cannot login at the moment.')\n",
    "     else:\n",
    "          print('Either one of your credentials is not correct and you cannot login at the moment.')\n",
    "\n",
    "\n",
    "   elif username1 not in users.values():\n",
    "     if password1 not in users.values():\n",
    "          if email1 not in users.values():\n",
    "             print(f'None of your details username ({username1}), password ({password1[0:2]}{a}) and email ({email1}) are valid')\n",
    "          else:\n",
    "             print('Either one of your credentials is not correct and you cannot login at the moment.')\n",
    "     else:\n",
    "        print('Either one of your credentials is not correct and you cannot login at the moment.')\n",
    "   else:\n",
    "      print('Either one of your credentials is not correct and you cannot login at the moment.')\n",
    " \n",
    "except:\n",
    "   print(f'Sorry, you encountered an error. kindly input a valid name ({name}).')\n",
    "    \n",
    "\n",
    "    "
   ]
  },
  {
   "cell_type": "code",
   "execution_count": 2,
   "metadata": {},
   "outputs": [
    {
     "data": {
      "text/plain": [
       "'The brand of this car is Toyota Highlander, it has a maximum speed of 118 miles per hour  and a mileage of 21 mpg city/29 mpg highway/24 combined mpg'"
      ]
     },
     "execution_count": 2,
     "metadata": {},
     "output_type": "execute_result"
    }
   ],
   "source": [
    "# 1. write a python program to create a vehicle class with max speed and mileage instance attribute.\n",
    "\n",
    "\n",
    "class Vehicle:\n",
    "    def __init__(self,brand,speed,mileage):\n",
    "        self.brand = brand\n",
    "        self.speed = speed\n",
    "        self.mileage = mileage\n",
    "        \n",
    "        \n",
    "car = Vehicle('Toyota Highlander','118 miles per hour','21 mpg city/29 mpg highway/24 combined mpg')\n",
    "f'The brand of this car is {car.brand}, it has a maximum speed of {car.speed}  and a mileage of {car.mileage}'"
   ]
  },
  {
   "cell_type": "code",
   "execution_count": 3,
   "metadata": {},
   "outputs": [
    {
     "data": {
      "text/plain": [
       "'Total of 50 seats'"
      ]
     },
     "execution_count": 3,
     "metadata": {},
     "output_type": "execute_result"
    }
   ],
   "source": [
    "# 2. create a bus class that inherits from the vehicle class. give the capacity\n",
    "# argument of bus.seating_capacity() a default value of 50 \n",
    "\n",
    "class Bus(Vehicle):\n",
    "    def __init__(self,bus_seating_capacity = 'Total of 50 seats'):\n",
    "        self.bus_seats = bus_seating_capacity\n",
    "        Vehicle.__init__(self)\n",
    "            \n",
    "bus = Bus()\n",
    "bus.bus_seats"
   ]
  },
  {
   "cell_type": "code",
   "execution_count": 5,
   "metadata": {},
   "outputs": [
    {
     "name": "stdout",
     "output_type": "stream",
     "text": [
      "5500\n"
     ]
    }
   ],
   "source": [
    "# 3. create a bus child class that inherits from the vehicle class. the default fare charge \n",
    "# of any vehicle is seating capacity * 100. if vehicle is bus instance, we need to add an \n",
    "# extra 10% on full fare as a maintenance charge. so total fare for bus instance will become \n",
    "# the final amount = total fare + 10% of the total fare.\n",
    "\n",
    "# Note: The bus seating capacity is 50. so the final fare amount should be 5500. you need to \n",
    "# override the fare() method of a vehicle class in bus class \n",
    "\n",
    "\n",
    "# 2. create a bus class that inherits from the vehicle class. give the capacity\n",
    "# argument of bus.seating_capacity() a default value of 50 \n",
    "\n",
    "class Bus(Vehicle):\n",
    "    def __init__(self,bus_seating_capacity = 'Total of 50 seats'):\n",
    "        self.bus_seats = bus_seating_capacity\n",
    "        Vehicle.__init__(self,any,any,any)\n",
    "\n",
    "class Bus(Vehicle):\n",
    "        def __init__(self,maintenance,add = 500,fare = 50 * 100):\n",
    "            self.extra = maintenance\n",
    "            self.add = add\n",
    "            self.transport = fare + maintenance\n",
    "fare = Bus(500)\n",
    "print(fare.transport)\n",
    "            \n"
   ]
  }
 ],
 "metadata": {
  "kernelspec": {
   "display_name": "Python 3.10.7 64-bit (microsoft store)",
   "language": "python",
   "name": "python3"
  },
  "language_info": {
   "codemirror_mode": {
    "name": "ipython",
    "version": 3
   },
   "file_extension": ".py",
   "mimetype": "text/x-python",
   "name": "python",
   "nbconvert_exporter": "python",
   "pygments_lexer": "ipython3",
   "version": "3.10.10 (tags/v3.10.10:aad5f6a, Feb  7 2023, 17:20:36) [MSC v.1929 64 bit (AMD64)]"
  },
  "orig_nbformat": 4,
  "vscode": {
   "interpreter": {
    "hash": "df03bcb3db8d02e6db5f4440a27a2981a8328cb8d911b7928a48605e1a88e4d3"
   }
  }
 },
 "nbformat": 4,
 "nbformat_minor": 2
}
