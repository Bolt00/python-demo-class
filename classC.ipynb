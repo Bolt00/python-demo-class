{
 "cells": [
  {
   "cell_type": "markdown",
   "metadata": {},
   "source": [
    "Python is a high-level, general-purpose and a very popular programming language. Python programming language (latest Python 3) is being used in web development, Machine Learning applications, along with all cutting edge technology in Software Industry. Python Programming Language is very well suited for Beginners, also for experienced programmers with other programming languages like C++ and Java"
   ]
  },
  {
   "cell_type": "markdown",
   "metadata": {},
   "source": [
    "Python Class"
   ]
  },
  {
   "cell_type": "code",
   "execution_count": 2,
   "metadata": {},
   "outputs": [
    {
     "name": "stdout",
     "output_type": "stream",
     "text": [
      "Good Morning Feranmi!\n"
     ]
    }
   ],
   "source": [
    "print(\"Good Morning Feranmi!\")"
   ]
  },
  {
   "cell_type": "code",
   "execution_count": 4,
   "metadata": {},
   "outputs": [
    {
     "name": "stdout",
     "output_type": "stream",
     "text": [
      "Freanmi\n",
      "Freanmi\n",
      "Freanmi\n",
      "Freanmi\n"
     ]
    }
   ],
   "source": [
    "print(\"Freanmi\")\n",
    "print(\"Freanmi\")\n",
    "print(\"Freanmi\")\n",
    "print(\"Freanmi\")"
   ]
  },
  {
   "cell_type": "code",
   "execution_count": 6,
   "metadata": {},
   "outputs": [
    {
     "data": {
      "text/plain": [
       "int"
      ]
     },
     "execution_count": 6,
     "metadata": {},
     "output_type": "execute_result"
    }
   ],
   "source": [
    "a = 100\n",
    "type(a)"
   ]
  },
  {
   "cell_type": "code",
   "execution_count": 7,
   "metadata": {},
   "outputs": [
    {
     "data": {
      "text/plain": [
       "str"
      ]
     },
     "execution_count": 7,
     "metadata": {},
     "output_type": "execute_result"
    }
   ],
   "source": [
    "b = \"Work Day\"\n",
    "type(b)"
   ]
  },
  {
   "cell_type": "code",
   "execution_count": 8,
   "metadata": {},
   "outputs": [
    {
     "data": {
      "text/plain": [
       "str"
      ]
     },
     "execution_count": 8,
     "metadata": {},
     "output_type": "execute_result"
    }
   ],
   "source": [
    "d = \"100\"\n",
    "type(d)"
   ]
  },
  {
   "cell_type": "code",
   "execution_count": 9,
   "metadata": {},
   "outputs": [
    {
     "data": {
      "text/plain": [
       "bool"
      ]
     },
     "execution_count": 9,
     "metadata": {},
     "output_type": "execute_result"
    }
   ],
   "source": [
    "c = True\n",
    "type(c)"
   ]
  },
  {
   "cell_type": "code",
   "execution_count": 10,
   "metadata": {},
   "outputs": [
    {
     "data": {
      "text/plain": [
       "float"
      ]
     },
     "execution_count": 10,
     "metadata": {},
     "output_type": "execute_result"
    }
   ],
   "source": [
    "e = 12.01\n",
    "type(e)"
   ]
  },
  {
   "cell_type": "code",
   "execution_count": 11,
   "metadata": {},
   "outputs": [
    {
     "data": {
      "text/plain": [
       "complex"
      ]
     },
     "execution_count": 11,
     "metadata": {},
     "output_type": "execute_result"
    }
   ],
   "source": [
    "f = 3j\n",
    "type(f)"
   ]
  },
  {
   "cell_type": "code",
   "execution_count": 20,
   "metadata": {},
   "outputs": [
    {
     "name": "stdout",
     "output_type": "stream",
     "text": [
      "<class 'tuple'>\n",
      "('python', 120, 'Java', 10, 10.6)\n"
     ]
    }
   ],
   "source": [
    "g = (\"python\",120,\"Java\", 10,10.6)\n",
    "h = (1,2)\n",
    "print(type(h))\n",
    "print(g)"
   ]
  },
  {
   "cell_type": "code",
   "execution_count": 2,
   "metadata": {},
   "outputs": [
    {
     "data": {
      "text/plain": [
       "tuple"
      ]
     },
     "execution_count": 2,
     "metadata": {},
     "output_type": "execute_result"
    }
   ],
   "source": [
    "today = 100,120\n",
    "type(today)"
   ]
  },
  {
   "cell_type": "code",
   "execution_count": 5,
   "metadata": {},
   "outputs": [
    {
     "data": {
      "text/plain": [
       "tuple"
      ]
     },
     "execution_count": 5,
     "metadata": {},
     "output_type": "execute_result"
    }
   ],
   "source": [
    "today1 = (120,False)\n",
    "type(today1)"
   ]
  },
  {
   "cell_type": "code",
   "execution_count": 24,
   "metadata": {},
   "outputs": [
    {
     "data": {
      "text/plain": [
       "tuple"
      ]
     },
     "execution_count": 24,
     "metadata": {},
     "output_type": "execute_result"
    }
   ],
   "source": [
    "i = (5j,6j,2j)\n",
    "type(i)"
   ]
  },
  {
   "cell_type": "code",
   "execution_count": 26,
   "metadata": {},
   "outputs": [
    {
     "data": {
      "text/plain": [
       "tuple"
      ]
     },
     "execution_count": 26,
     "metadata": {},
     "output_type": "execute_result"
    }
   ],
   "source": [
    "j = tuple((1,2,3,4,5))\n",
    "type(j)"
   ]
  },
  {
   "cell_type": "code",
   "execution_count": 27,
   "metadata": {},
   "outputs": [
    {
     "data": {
      "text/plain": [
       "list"
      ]
     },
     "execution_count": 27,
     "metadata": {},
     "output_type": "execute_result"
    }
   ],
   "source": [
    "k = [\"Monday\",12,True]\n",
    "type(k)"
   ]
  },
  {
   "cell_type": "code",
   "execution_count": 28,
   "metadata": {},
   "outputs": [
    {
     "data": {
      "text/plain": [
       "list"
      ]
     },
     "execution_count": 28,
     "metadata": {},
     "output_type": "execute_result"
    }
   ],
   "source": [
    "l = list((100,200,7j))\n",
    "type(l)"
   ]
  },
  {
   "cell_type": "code",
   "execution_count": 29,
   "metadata": {},
   "outputs": [
    {
     "data": {
      "text/plain": [
       "set"
      ]
     },
     "execution_count": 29,
     "metadata": {},
     "output_type": "execute_result"
    }
   ],
   "source": [
    "m = {120,\"Grace\",True}\n",
    "type(m)"
   ]
  },
  {
   "cell_type": "code",
   "execution_count": 30,
   "metadata": {},
   "outputs": [
    {
     "data": {
      "text/plain": [
       "set"
      ]
     },
     "execution_count": 30,
     "metadata": {},
     "output_type": "execute_result"
    }
   ],
   "source": [
    "n = set((2j,False,\"90\"))\n",
    "type(n)"
   ]
  },
  {
   "cell_type": "code",
   "execution_count": 35,
   "metadata": {},
   "outputs": [
    {
     "data": {
      "text/plain": [
       "list"
      ]
     },
     "execution_count": 35,
     "metadata": {},
     "output_type": "execute_result"
    }
   ],
   "source": [
    "o = {\n",
    "    \"name\":\"Grace\",\n",
    "    \"age\":12,\n",
    "    \"gender\": \"female\",\n",
    "    \"is_teacher\":False,\n",
    "    \"hubbies\":[\"playing\",\"singing\",\"swimming\"]\n",
    "}\n",
    "type(o[\"hubbies\"])\n"
   ]
  },
  {
   "cell_type": "code",
   "execution_count": 36,
   "metadata": {},
   "outputs": [
    {
     "data": {
      "text/plain": [
       "dict"
      ]
     },
     "execution_count": 36,
     "metadata": {},
     "output_type": "execute_result"
    }
   ],
   "source": [
    "type(o)"
   ]
  },
  {
   "cell_type": "code",
   "execution_count": 37,
   "metadata": {},
   "outputs": [
    {
     "data": {
      "text/plain": [
       "list"
      ]
     },
     "execution_count": 37,
     "metadata": {},
     "output_type": "execute_result"
    }
   ],
   "source": [
    "type(k)"
   ]
  },
  {
   "cell_type": "code",
   "execution_count": 38,
   "metadata": {},
   "outputs": [
    {
     "name": "stdout",
     "output_type": "stream",
     "text": [
      "success\n"
     ]
    }
   ],
   "source": [
    "balance = 200\n",
    "amount = 100\n",
    "\n",
    "if balance > amount:\n",
    "    print('success')\n",
    "else:\n",
    "    print('off')"
   ]
  },
  {
   "cell_type": "code",
   "execution_count": 1,
   "metadata": {},
   "outputs": [
    {
     "data": {
      "text/plain": [
       "set"
      ]
     },
     "execution_count": 1,
     "metadata": {},
     "output_type": "execute_result"
    }
   ],
   "source": [
    "state = {(\"lagos\",\"Oyo\",\"Enugu\")}\n",
    "\n",
    "type(state)"
   ]
  },
  {
   "cell_type": "code",
   "execution_count": 2,
   "metadata": {},
   "outputs": [
    {
     "data": {
      "text/plain": [
       "set"
      ]
     },
     "execution_count": 2,
     "metadata": {},
     "output_type": "execute_result"
    }
   ],
   "source": [
    "state = {\"lagos\",\"Oyo\",\"Enugu\"}\n",
    "\n",
    "type(state)"
   ]
  },
  {
   "cell_type": "code",
   "execution_count": 3,
   "metadata": {},
   "outputs": [
    {
     "data": {
      "text/plain": [
       "set"
      ]
     },
     "execution_count": 3,
     "metadata": {},
     "output_type": "execute_result"
    }
   ],
   "source": [
    "type(state)"
   ]
  },
  {
   "cell_type": "code",
   "execution_count": 5,
   "metadata": {},
   "outputs": [
    {
     "ename": "SyntaxError",
     "evalue": "invalid syntax (<ipython-input-5-a1cb285739d9>, line 1)",
     "output_type": "error",
     "traceback": [
      "\u001b[1;36m  File \u001b[1;32m\"<ipython-input-5-a1cb285739d9>\"\u001b[1;36m, line \u001b[1;32m1\u001b[0m\n\u001b[1;33m    state = {list((\"A\",\"B\",\"c\"))\"D\",\"E\"}\u001b[0m\n\u001b[1;37m                                ^\u001b[0m\n\u001b[1;31mSyntaxError\u001b[0m\u001b[1;31m:\u001b[0m invalid syntax\n"
     ]
    }
   ],
   "source": [
    "state = {list((\"A\",\"B\",\"c\")),\"D\",\"E\"}\n",
    "type(state)"
   ]
  },
  {
   "cell_type": "code",
   "execution_count": 6,
   "metadata": {},
   "outputs": [
    {
     "data": {
      "text/plain": [
       "list"
      ]
     },
     "execution_count": 6,
     "metadata": {},
     "output_type": "execute_result"
    }
   ],
   "source": [
    "o = {\n",
    "    \"name\":\"Grace\",\n",
    "    \"age\":12,\n",
    "    \"gender\": \"female\",\n",
    "    \"is_teacher\":False,\n",
    "    \"hubbies\":list((\"playing\",\"singing\",\"swimming\"))\n",
    "}\n",
    "type(o[\"hubbies\"])\n"
   ]
  },
  {
   "cell_type": "markdown",
   "metadata": {},
   "source": [
    "Data Structure methods"
   ]
  },
  {
   "cell_type": "code",
   "execution_count": 7,
   "metadata": {},
   "outputs": [
    {
     "data": {
      "text/plain": [
       "tuple"
      ]
     },
     "execution_count": 7,
     "metadata": {},
     "output_type": "execute_result"
    }
   ],
   "source": [
    "# Tuple it takes ()\n",
    "a = (1,2,3,4,5,\"Go\",\"Die\",\"Tomorrow\",True,12.087)\n",
    "\n",
    "# checking the type\n",
    "type(a)"
   ]
  },
  {
   "cell_type": "code",
   "execution_count": 10,
   "metadata": {},
   "outputs": [
    {
     "data": {
      "text/plain": [
       "10"
      ]
     },
     "execution_count": 10,
     "metadata": {},
     "output_type": "execute_result"
    }
   ],
   "source": [
    "len(a)"
   ]
  },
  {
   "cell_type": "code",
   "execution_count": 16,
   "metadata": {},
   "outputs": [
    {
     "data": {
      "text/plain": [
       "12.087"
      ]
     },
     "execution_count": 16,
     "metadata": {},
     "output_type": "execute_result"
    }
   ],
   "source": [
    "# indexed\n",
    "a[9]"
   ]
  },
  {
   "cell_type": "code",
   "execution_count": 21,
   "metadata": {},
   "outputs": [
    {
     "data": {
      "text/plain": [
       "('Die', 'Tomorrow')"
      ]
     },
     "execution_count": 21,
     "metadata": {},
     "output_type": "execute_result"
    }
   ],
   "source": [
    "a[6:8]"
   ]
  },
  {
   "cell_type": "code",
   "execution_count": 22,
   "metadata": {},
   "outputs": [
    {
     "data": {
      "text/plain": [
       "(1, 2, 3, 4, 5, 'Go')"
      ]
     },
     "execution_count": 22,
     "metadata": {},
     "output_type": "execute_result"
    }
   ],
   "source": [
    "a[:6]"
   ]
  },
  {
   "cell_type": "code",
   "execution_count": 23,
   "metadata": {},
   "outputs": [
    {
     "data": {
      "text/plain": [
       "(4, 5, 'Go', 'Die', 'Tomorrow', True, 12.087)"
      ]
     },
     "execution_count": 23,
     "metadata": {},
     "output_type": "execute_result"
    }
   ],
   "source": [
    "a[3:]"
   ]
  },
  {
   "cell_type": "code",
   "execution_count": 24,
   "metadata": {},
   "outputs": [
    {
     "data": {
      "text/plain": [
       "(1, 2, 3, 4, 5, 'Go', 'Die', 'Tomorrow', True, 12.087)"
      ]
     },
     "execution_count": 24,
     "metadata": {},
     "output_type": "execute_result"
    }
   ],
   "source": [
    "a[:]"
   ]
  },
  {
   "cell_type": "code",
   "execution_count": 25,
   "metadata": {},
   "outputs": [
    {
     "name": "stdout",
     "output_type": "stream",
     "text": [
      "('A', 'B', 'C')\n"
     ]
    }
   ],
   "source": [
    "# ordered\n",
    "b = (\"A\",\"B\",\"C\")\n",
    "print(b)"
   ]
  },
  {
   "cell_type": "code",
   "execution_count": 28,
   "metadata": {},
   "outputs": [
    {
     "name": "stdout",
     "output_type": "stream",
     "text": [
      "new tupe list is\n",
      " ('lagos', 'Oyo', 'Enugu', 'lagos', 'Oyo', 'Enugu', 'lagos', 'Oyo', 'Enugu')\n"
     ]
    }
   ],
   "source": [
    "# Allow duplicate\n",
    "c = (\"lagos\",\"Oyo\",\"Enugu\")\n",
    "c = c * 3\n",
    "print(\"new tupe list is\\n\",c)"
   ]
  },
  {
   "cell_type": "code",
   "execution_count": 29,
   "metadata": {},
   "outputs": [
    {
     "data": {
      "text/plain": [
       "('lagos', 'Oyo', 'Enugu', 'lagos', 'Oyo', 'Enugu', 'lagos', 'Oyo', 'Enugu')"
      ]
     },
     "execution_count": 29,
     "metadata": {},
     "output_type": "execute_result"
    }
   ],
   "source": [
    "c"
   ]
  },
  {
   "cell_type": "code",
   "execution_count": 31,
   "metadata": {},
   "outputs": [
    {
     "data": {
      "text/plain": [
       "1"
      ]
     },
     "execution_count": 31,
     "metadata": {},
     "output_type": "execute_result"
    }
   ],
   "source": [
    "d = (\"lagos\",\"Oyo\",\"Enugu\")\n",
    "d.count(\"lagos\")"
   ]
  },
  {
   "cell_type": "code",
   "execution_count": 32,
   "metadata": {},
   "outputs": [
    {
     "data": {
      "text/plain": [
       "0"
      ]
     },
     "execution_count": 32,
     "metadata": {},
     "output_type": "execute_result"
    }
   ],
   "source": [
    "d1 = (\"lagos\",\"Oyo\",\"Enugu\")\n",
    "d1.index(\"lagos\")"
   ]
  },
  {
   "cell_type": "code",
   "execution_count": 34,
   "metadata": {},
   "outputs": [
    {
     "name": "stdout",
     "output_type": "stream",
     "text": [
      "yes\n"
     ]
    }
   ],
   "source": [
    "a = 6\n",
    "\n",
    "if not a:\n",
    "    print('no')\n",
    "else:\n",
    "    print('yes')"
   ]
  },
  {
   "cell_type": "markdown",
   "metadata": {},
   "source": [
    "Data Structure Methods"
   ]
  },
  {
   "cell_type": "code",
   "execution_count": 1,
   "metadata": {},
   "outputs": [
    {
     "name": "stdout",
     "output_type": "stream",
     "text": [
      "('Python', 'Java', 'C++', 'JavaScript', 'Ruby', 'Php', 'R-lang', 'Dart', 'Rust', 'C')\n"
     ]
    }
   ],
   "source": [
    "# tuple() methods\n",
    "\n",
    "\n",
    "info = tuple((\"Python\",\"Java\",\"C++\",\"JavaScript\",\"Ruby\",\"Php\",\"R-lang\",\"Dart\",\"Rust\",\"C\"))\n",
    "print(info)\n"
   ]
  },
  {
   "cell_type": "code",
   "execution_count": 2,
   "metadata": {},
   "outputs": [
    {
     "name": "stdout",
     "output_type": "stream",
     "text": [
      "('Python', 'Java', 'C++', 'JavaScript', 'Ruby', 'Php', 'R-lang', 'Dart', 'Rust', 'C')\n"
     ]
    }
   ],
   "source": [
    "need = (\"Python\",\"Java\",\"C++\",\"JavaScript\",\"Ruby\",\"Php\",\"R-lang\",\"Dart\",\"Rust\",\"C\")\n",
    "print(need)"
   ]
  },
  {
   "cell_type": "code",
   "execution_count": 3,
   "metadata": {},
   "outputs": [
    {
     "data": {
      "text/plain": [
       "10"
      ]
     },
     "execution_count": 3,
     "metadata": {},
     "output_type": "execute_result"
    }
   ],
   "source": [
    "len(need)"
   ]
  },
  {
   "cell_type": "code",
   "execution_count": 4,
   "metadata": {},
   "outputs": [
    {
     "data": {
      "text/plain": [
       "'Python'"
      ]
     },
     "execution_count": 4,
     "metadata": {},
     "output_type": "execute_result"
    }
   ],
   "source": [
    "need[0]"
   ]
  },
  {
   "cell_type": "code",
   "execution_count": 5,
   "metadata": {},
   "outputs": [
    {
     "data": {
      "text/plain": [
       "'Php'"
      ]
     },
     "execution_count": 5,
     "metadata": {},
     "output_type": "execute_result"
    }
   ],
   "source": [
    "need[5]"
   ]
  },
  {
   "cell_type": "code",
   "execution_count": 7,
   "metadata": {},
   "outputs": [
    {
     "name": "stdout",
     "output_type": "stream",
     "text": [
      "('Python', 'Java', 'C++', 'Python', 'Ruby', 'Php', 'R-lang', 'Dart', 'Rust', 'C')\n"
     ]
    }
   ],
   "source": [
    "need = (\"Python\",\"Java\",\"C++\",\"Python\",\"Ruby\",\"Php\",\"R-lang\",\"Dart\",\"Rust\",\"C\")\n",
    "print(need)"
   ]
  },
  {
   "cell_type": "code",
   "execution_count": 11,
   "metadata": {},
   "outputs": [
    {
     "name": "stdout",
     "output_type": "stream",
     "text": [
      "('Python', 'Java', 'C++', 'JavaScript', 'Ruby', 'Php', 'R-lang', 'Dart', 'Rust', 'C')\n"
     ]
    }
   ],
   "source": [
    "need = (\"Python\",\"Java\",\"C++\",\"Python\",\"Ruby\",\"Php\",\"R-lang\",\"Dart\",\"Rust\",\"C\")\n",
    "var = list(need)\n",
    "var[3] = \"JavaScript\"\n",
    "need = tuple(var)\n",
    "print(need)"
   ]
  },
  {
   "cell_type": "code",
   "execution_count": 14,
   "metadata": {},
   "outputs": [
    {
     "data": {
      "text/plain": [
       "('Python',\n",
       " 'Java',\n",
       " 'C++',\n",
       " 'JavaScript',\n",
       " 'Ruby',\n",
       " 'Php',\n",
       " 'R-lang',\n",
       " 'Dart',\n",
       " 'Rust',\n",
       " 'C',\n",
       " 'Kotlin')"
      ]
     },
     "execution_count": 14,
     "metadata": {},
     "output_type": "execute_result"
    }
   ],
   "source": [
    "# update the tuple var\n",
    "\n",
    "var = (\"Kotlin\",)\n",
    "\n",
    "need += var\n",
    "need"
   ]
  },
  {
   "cell_type": "code",
   "execution_count": 20,
   "metadata": {},
   "outputs": [
    {
     "name": "stdout",
     "output_type": "stream",
     "text": [
      "Python is a programming Language\n",
      "Java is a programming Language\n",
      "C++ is a programming Language\n",
      "JavaScript is a programming Language\n",
      "Ruby is a programming Language\n",
      "Php is a programming Language\n",
      "R-lang is a programming Language\n",
      "Dart is a programming Language\n",
      "Rust is a programming Language\n",
      "C is a programming Language\n",
      "Kotlin is a programming Language\n"
     ]
    }
   ],
   "source": [
    "for x in need:\n",
    "    print(x,\"is a programming Language\")"
   ]
  },
  {
   "cell_type": "code",
   "execution_count": 24,
   "metadata": {},
   "outputs": [
    {
     "name": "stdout",
     "output_type": "stream",
     "text": [
      "Python is a programming Language with index 0\n",
      "Java is a programming Language with index 1\n",
      "C++ is a programming Language with index 2\n",
      "JavaScript is a programming Language with index 3\n",
      "Ruby is a programming Language with index 4\n",
      "Php is a programming Language with index 5\n",
      "R-lang is a programming Language with index 6\n",
      "Dart is a programming Language with index 7\n",
      "Rust is a programming Language with index 8\n",
      "C is a programming Language with index 9\n",
      "Kotlin is a programming Language with index 10\n"
     ]
    }
   ],
   "source": [
    "for x in range(len(need)):\n",
    "    print(need[x],\"is a programming Language with index\",x)"
   ]
  },
  {
   "cell_type": "code",
   "execution_count": 32,
   "metadata": {},
   "outputs": [
    {
     "data": {
      "text/plain": [
       "list"
      ]
     },
     "execution_count": 32,
     "metadata": {},
     "output_type": "execute_result"
    }
   ],
   "source": [
    "# List [] Methods\n",
    "\n",
    "\n",
    "info = [\"Lagos\",\"Edo\",\"Enugu\",\"Imo\",\"Anambra\",\"Oyo\",\"Borno\"]\n",
    "\n",
    "type(info)"
   ]
  },
  {
   "cell_type": "code",
   "execution_count": 34,
   "metadata": {},
   "outputs": [
    {
     "data": {
      "text/plain": [
       "['Lagos', 'Edo', 'Enugu', 'Imo', 'Anambra', 'Oyo', 'Borno', 'Kwara']"
      ]
     },
     "execution_count": 34,
     "metadata": {},
     "output_type": "execute_result"
    }
   ],
   "source": [
    "info.append('Kwara')\n",
    "info"
   ]
  },
  {
   "cell_type": "code",
   "execution_count": 30,
   "metadata": {},
   "outputs": [
    {
     "data": {
      "text/plain": [
       "['Lagos',\n",
       " 'Edo',\n",
       " 'Enugu',\n",
       " 'Imo',\n",
       " 'Anambra',\n",
       " 'Oyo',\n",
       " 'Borno',\n",
       " 'Kwara',\n",
       " ['Abuja', 'Ekiti', 'Kaduna']]"
      ]
     },
     "execution_count": 30,
     "metadata": {},
     "output_type": "execute_result"
    }
   ],
   "source": [
    "added = [\"Abuja\",\"Ekiti\",\"Kaduna\"]\n",
    "\n",
    "info.append(added)\n",
    "info"
   ]
  },
  {
   "cell_type": "code",
   "execution_count": 31,
   "metadata": {},
   "outputs": [
    {
     "data": {
      "text/plain": [
       "[]"
      ]
     },
     "execution_count": 31,
     "metadata": {},
     "output_type": "execute_result"
    }
   ],
   "source": [
    "info.clear()\n",
    "info"
   ]
  },
  {
   "cell_type": "code",
   "execution_count": 35,
   "metadata": {},
   "outputs": [
    {
     "data": {
      "text/plain": [
       "['Lagos', 'Edo', 'Enugu', 'Imo', 'Anambra', 'Oyo', 'Borno', 'Kwara']"
      ]
     },
     "execution_count": 35,
     "metadata": {},
     "output_type": "execute_result"
    }
   ],
   "source": [
    "info"
   ]
  },
  {
   "cell_type": "code",
   "execution_count": 36,
   "metadata": {},
   "outputs": [
    {
     "data": {
      "text/plain": [
       "['Lagos', 'Edo', 'Enugu', 'Imo', 'Anambra', 'Oyo', 'Kwara']"
      ]
     },
     "execution_count": 36,
     "metadata": {},
     "output_type": "execute_result"
    }
   ],
   "source": [
    "# remove element\n",
    "info.remove(\"Borno\")\n",
    "info"
   ]
  },
  {
   "cell_type": "code",
   "execution_count": 37,
   "metadata": {},
   "outputs": [
    {
     "data": {
      "text/plain": [
       "['Lagos', 'Edo', 'Enugu', 'Imo', 'Anambra', 'Oyo', 'Kwara', 'Borno']"
      ]
     },
     "execution_count": 37,
     "metadata": {},
     "output_type": "execute_result"
    }
   ],
   "source": [
    "info.append(\"Borno\")\n",
    "info"
   ]
  },
  {
   "cell_type": "code",
   "execution_count": 38,
   "metadata": {},
   "outputs": [
    {
     "data": {
      "text/plain": [
       "['Borno', 'Kwara', 'Oyo', 'Anambra', 'Imo', 'Enugu', 'Edo', 'Lagos']"
      ]
     },
     "execution_count": 38,
     "metadata": {},
     "output_type": "execute_result"
    }
   ],
   "source": [
    "# reverse method\n",
    "\n",
    "info.reverse()\n",
    "info"
   ]
  },
  {
   "cell_type": "code",
   "execution_count": 40,
   "metadata": {},
   "outputs": [
    {
     "name": "stdout",
     "output_type": "stream",
     "text": [
      "Borno\n",
      "Kwara\n",
      "Ogun\n",
      "Anambra\n",
      "Imo\n",
      "Enugu\n",
      "Edo\n",
      "Lagos\n"
     ]
    }
   ],
   "source": [
    "info[2] = \"Ogun\"\n",
    "for z in info:\n",
    "    print(z)"
   ]
  },
  {
   "cell_type": "code",
   "execution_count": 41,
   "metadata": {},
   "outputs": [
    {
     "data": {
      "text/plain": [
       "list"
      ]
     },
     "execution_count": 41,
     "metadata": {},
     "output_type": "execute_result"
    }
   ],
   "source": [
    "type(info)"
   ]
  },
  {
   "cell_type": "code",
   "execution_count": 42,
   "metadata": {},
   "outputs": [
    {
     "data": {
      "text/plain": [
       "tuple"
      ]
     },
     "execution_count": 42,
     "metadata": {},
     "output_type": "execute_result"
    }
   ],
   "source": [
    "info = tuple(info)\n",
    "type(info)"
   ]
  },
  {
   "cell_type": "code",
   "execution_count": 45,
   "metadata": {},
   "outputs": [
    {
     "data": {
      "text/plain": [
       "['Borno', 'Kwara', 'Ogun', 'Anambra', 'Imo', 'Enugu', 'Edo']"
      ]
     },
     "execution_count": 45,
     "metadata": {},
     "output_type": "execute_result"
    }
   ],
   "source": [
    "info.remove(\"Lagos\")\n",
    "info"
   ]
  },
  {
   "cell_type": "code",
   "execution_count": 44,
   "metadata": {},
   "outputs": [
    {
     "data": {
      "text/plain": [
       "list"
      ]
     },
     "execution_count": 44,
     "metadata": {},
     "output_type": "execute_result"
    }
   ],
   "source": [
    "info = list(info)\n",
    "type(info)"
   ]
  },
  {
   "cell_type": "code",
   "execution_count": 46,
   "metadata": {},
   "outputs": [
    {
     "data": {
      "text/plain": [
       "['Borno', 'Kwara', 'Ogun', 'Anambra', 'Imo', 'Enugu', 'Edo']"
      ]
     },
     "execution_count": 46,
     "metadata": {},
     "output_type": "execute_result"
    }
   ],
   "source": [
    "info"
   ]
  },
  {
   "cell_type": "code",
   "execution_count": 48,
   "metadata": {},
   "outputs": [
    {
     "data": {
      "text/plain": [
       "['Borno', 'Lagos', 'Kwara', 'Ogun', 'Anambra', 'Imo', 'Enugu', 'Edo']"
      ]
     },
     "execution_count": 48,
     "metadata": {},
     "output_type": "execute_result"
    }
   ],
   "source": [
    "info.insert(1,\"Lagos\")\n",
    "info"
   ]
  },
  {
   "cell_type": "code",
   "execution_count": 50,
   "metadata": {},
   "outputs": [
    {
     "data": {
      "text/plain": [
       "['Kwara', 'Ogun', 'Anambra', 'Imo', 'Enugu', 'Edo']"
      ]
     },
     "execution_count": 50,
     "metadata": {},
     "output_type": "execute_result"
    }
   ],
   "source": [
    "info.pop(0)\n",
    "info"
   ]
  },
  {
   "cell_type": "code",
   "execution_count": 1,
   "metadata": {},
   "outputs": [],
   "source": [
    "# write a program to give an output for 2023 election base on each user's tottal votes and declear\n",
    "# the winner base on input results   "
   ]
  },
  {
   "cell_type": "code",
   "execution_count": 14,
   "metadata": {},
   "outputs": [
    {
     "name": "stdout",
     "output_type": "stream",
     "text": [
      "Election 2023 is inconclusive\n"
     ]
    }
   ],
   "source": [
    "# declear input for each party\n",
    "pdp = int(input(\"Enter PDP total vote\\n\"))\n",
    "apc = int(input(\"Enter APC total vote\\n\"))\n",
    "lp = int(input(\"Enter LP total vote\\n\"))\n",
    "\n",
    "\n",
    "# validation of the input according the the party\n",
    "\n",
    "if pdp > apc and pdp > lp:\n",
    "    pdp_cand = \"Mr Abubakar Atiku\"\n",
    "    print(f'WOw! {pdp_cand} won the 2023 election with {pdp} compare to other with {apc} and {lp}')\n",
    "\n",
    "elif apc > lp and pdp:\n",
    "    apc_cand = \"Mr Bola Hammed Tinubu\"\n",
    "    print(f'WOw! {apc_cand} won the 2023 election with {apc} compare to other with {pdp} and {lp}')\n",
    "\n",
    "elif lp > apc and pdp:\n",
    "    lp_cand = \"Mr Peter Obi\"\n",
    "    print(f'WOw! {lp_cand} won the 2023 election with {lp} compare to other with {pdp} and {apc}')\n",
    "else:\n",
    "    print(\"Election 2023 is inconclusive\")"
   ]
  },
  {
   "cell_type": "code",
   "execution_count": 8,
   "metadata": {},
   "outputs": [
    {
     "name": "stdout",
     "output_type": "stream",
     "text": [
      "5\n"
     ]
    }
   ],
   "source": [
    "a = 5\n",
    "print(a)"
   ]
  },
  {
   "cell_type": "code",
   "execution_count": 10,
   "metadata": {},
   "outputs": [
    {
     "name": "stdout",
     "output_type": "stream",
     "text": [
      "5 is the value of the variable\n"
     ]
    }
   ],
   "source": [
    "print(f'{a} is the value of the variable')"
   ]
  },
  {
   "cell_type": "code",
   "execution_count": 18,
   "metadata": {},
   "outputs": [
    {
     "name": "stdout",
     "output_type": "stream",
     "text": [
      "You are a winner\n"
     ]
    }
   ],
   "source": [
    "answer = 1000\n",
    "guess = int(input(\"guess a number\"))\n",
    " \n",
    "\n",
    "if guess < answer:\n",
    "    print(\"Oops you guess below the number try another number\")\n",
    "    guess2 = int(input(\"guess a number\"))\n",
    "    if guess2 == answer:\n",
    "        print(\"You are a winner\")\n",
    "    else:\n",
    "        print(\"You wrong in the second attempt\")\n",
    "elif guess > answer:\n",
    "    print(\"Oops you guess above the number try another number\")\n",
    "    guess2 = int(input(\"guess a number\"))\n",
    "    if guess2 == answer:\n",
    "        print(\"You are a winner\")\n",
    "    else:\n",
    "        print(\"You wrong in the second attempt\")\n",
    "else:\n",
    "    print(\"You are a winner\")"
   ]
  },
  {
   "cell_type": "code",
   "execution_count": 20,
   "metadata": {},
   "outputs": [
    {
     "name": "stdout",
     "output_type": "stream",
     "text": [
      "0\n",
      "1\n",
      "2\n",
      "3\n",
      "4\n",
      "5\n",
      "6\n",
      "7\n",
      "8\n",
      "9\n"
     ]
    }
   ],
   "source": [
    "for i in range(10):\n",
    "    print(i)"
   ]
  },
  {
   "cell_type": "code",
   "execution_count": 21,
   "metadata": {},
   "outputs": [
    {
     "name": "stdout",
     "output_type": "stream",
     "text": [
      "10\n",
      "11\n",
      "12\n",
      "13\n",
      "14\n",
      "15\n",
      "16\n",
      "17\n",
      "18\n",
      "19\n",
      "20\n",
      "21\n",
      "22\n",
      "23\n",
      "24\n"
     ]
    }
   ],
   "source": [
    "for i in range(10,25):\n",
    "    print(i)"
   ]
  },
  {
   "cell_type": "code",
   "execution_count": 22,
   "metadata": {},
   "outputs": [
    {
     "name": "stdout",
     "output_type": "stream",
     "text": [
      "10\n",
      "20\n",
      "30\n",
      "40\n",
      "50\n",
      "60\n",
      "70\n",
      "80\n",
      "90\n"
     ]
    }
   ],
   "source": [
    "for i in range(10,100,10):\n",
    "    print(i)"
   ]
  },
  {
   "cell_type": "code",
   "execution_count": null,
   "metadata": {},
   "outputs": [],
   "source": [
    "# 0.00 - 0.99 = Probation\n",
    "# 1.00 - 1.49 = pass\n",
    "# 1.50 - 2.49 = third class\n",
    "# 2.50 - 3.49 = second class lower\n",
    "# 3.50 - 4.49 = second class upper\n",
    "# 4.50 - 5.00 = first class "
   ]
  },
  {
   "cell_type": "code",
   "execution_count": 1,
   "metadata": {},
   "outputs": [
    {
     "name": "stdout",
     "output_type": "stream",
     "text": [
      "Congratulation Victor, you have a first class with 4.5\n"
     ]
    }
   ],
   "source": [
    "name = input(\"Please enter your name \\n\")\n",
    "level = int(input(\"Please enter your level \\n\"))\n",
    "cgpa = float(input(\"Enter your current CGPA \\n\"))\n",
    "\n",
    "# print(cgpa)\n",
    "\n",
    "if cgpa >= 4.50:\n",
    "    print(f'Congratulation {name}, you have a first class with {cgpa}')\n",
    "elif cgpa <= 4.49 and cgpa >= 3.50:\n",
    "    print(f'Congratulation {name}, you have a second class upper with {cgpa}')\n",
    "elif cgpa <= 3.49 and cgpa >= 2.50:\n",
    "    print(f'Congratulation {name}, you have a second class lower with {cgpa}')\n",
    "elif cgpa <= 2.49 and cgpa >= 1.50:\n",
    "    print(f'Congratulation {name}, you have a third class with {cgpa}')\n",
    "elif cgpa <= 1.49 and cgpa >= 1.00:\n",
    "    print(f'Congratulation {name}, you have a pass class with {cgpa}')\n",
    "elif cgpa <= 0.49 and cgpa >= 0.1:\n",
    "    print(f'Congratulation {name}, you are on probabtion upper with {cgpa}')\n",
    "\n",
    "else:\n",
    "    print(\"Out of cgpa range\")"
   ]
  },
  {
   "cell_type": "code",
   "execution_count": null,
   "metadata": {},
   "outputs": [],
   "source": [
    "# if, elif and else\n",
    "\n",
    "name = \"Peter\",\"John\",\"James\"\n",
    "surname = \"obi\"\n",
    "\n",
    "# end of database\n",
    "\n",
    "ask = input(\"Enter main diciples of jesus\\n\")\n",
    "ask = ask.lower()\n",
    "if ask == \"Peter\":\n",
    "    print(f\"Yes, {ask} is among\")\n",
    "elif ask == \"John\":\n",
    "    print(f\"Yes {ask} is among\")\n",
    "elif ask == \"James\":\n",
    "    print(f\"Yes {ask} is among\")\n",
    "\n",
    "else: print(f\"Opps! wrong name is given as {ask}\")\n"
   ]
  },
  {
   "cell_type": "code",
   "execution_count": 3,
   "metadata": {},
   "outputs": [],
   "source": [
    "name = input(\"Your name\")\n",
    "name = name.upper()"
   ]
  },
  {
   "cell_type": "code",
   "execution_count": 3,
   "metadata": {},
   "outputs": [],
   "source": [
    "# if, elif and else\n",
    "\n",
    "name = \"Peter\",\"John\",\"James\"\n",
    "surname = \"Simon\"\n",
    "\n",
    "# end of database\n",
    "\n",
    "ask = input(\"Enter main diciples of jesus\\n\")\n",
    "surname = input(\"Enter surname of disciples of jesus\\n\")\n",
    "ask = ask.lower()\n",
    "surname = surname.lower\n",
    "if ask == \"Peter\":\n",
    "    print(f\"Yes, {ask} is among\")\n",
    "    if surname == \"Simon\":\n",
    "        print(f\"Yes {surname} is valid\")\n",
    "        print(f\"{surname} {ask} was with jesus\")\n",
    "    else: \n",
    "        print (\"Not Needed\")\n",
    "\n",
    "elif ask == \"John\":\n",
    "    print(f\"Yes {ask} is among\")\n",
    "    if surname == \"Smart\":\n",
    "        print(f\" Yes {surname} is valid\")\n",
    "        print(f\"{surname} {ask} was with jesus\")\n",
    "    else: print(\"not needed\")\n",
    "\n",
    "elif ask == \"James\":\n",
    "    print(f\"Yes {ask} is among\")\n",
    "    if surname == \"obi\":\n",
    "        print(f\"Yes {surname} is valid\")\n",
    "        print(f\"{surname} {ask} was with jesus\")\n",
    "    else:\n",
    "        print(\"Not needed\")\n",
    "\n"
   ]
  },
  {
   "cell_type": "code",
   "execution_count": 2,
   "metadata": {},
   "outputs": [],
   "source": [
    "# Assignment \n",
    "\n",
    "\n",
    "# write a python program validating at least 3 steps of complete conditional\n",
    "#  statement relating with comparising (relational) statement\n",
    "#  for your desired problem"
   ]
  },
  {
   "cell_type": "code",
   "execution_count": 5,
   "metadata": {},
   "outputs": [
    {
     "name": "stdout",
     "output_type": "stream",
     "text": [
      "Yes beans is in the database.\n",
      "Yes swimming is in the database.\n",
      "Yes ghost is in the database.\n",
      "beans, swimming and ghost are all in the database.\n"
     ]
    }
   ],
   "source": [
    "# Database\n",
    "\n",
    "best_food = \"Beans\"\n",
    "hobby = \"swimming\"\n",
    "best_friend = \"Ghost\"\n",
    "\n",
    "# end of database\n",
    "\n",
    "\n",
    "best_food = input(\"What is your best food?\")\n",
    "hobby = input(\"What is your hobby?\")\n",
    "best_friend = input(\"Who is your best friend?\")\n",
    "best_food = best_food.lower()\n",
    "hobby = hobby.lower()\n",
    "best_friend = best_friend.lower()\n",
    "\n",
    "if best_food == \"beans\":\n",
    "    print(f\"Yes {best_food} is in the database.\")\n",
    "    if hobby == \"swimming\":\n",
    "        print(f\"Yes {hobby} is in the database.\")\n",
    "        if best_friend == \"g.host\":\n",
    "            print(f\"Yes {best_friend} is in the database.\")\n",
    "            print(f\"{best_food}, {hobby} and {best_friend} are all in the database.\")\n",
    "        else:\n",
    "            print(\"We can't find this record in the database.\")"
   ]
  },
  {
   "cell_type": "code",
   "execution_count": 1,
   "metadata": {},
   "outputs": [
    {
     "name": "stdout",
     "output_type": "stream",
     "text": [
      "33,33,33 are greater values \n",
      " Thanks!\n"
     ]
    }
   ],
   "source": [
    "# Correction.\n",
    "\n",
    "A1 =2\n",
    "A2 =4\n",
    "A3 =6\n",
    "\n",
    "a1 = int(input(\"guess\"))\n",
    "a2 = int(input(\"guess\"))\n",
    "a3 = int(input(\"guess\"))\n",
    "\n",
    "if a1 < A1:\n",
    "    if a2 < A2:\n",
    "        if a3 < A3:\n",
    "            print(f\"{a1},{a2},{a3} are less value \\n Thanks!\")\n",
    "        else:\n",
    "            print(f\"{a1},{a2} are less value but {a3} is wrong\")\n",
    "    else:\n",
    "        print(f\"{a1} is less value but {a2},{a3} are wrong \")\n",
    "elif a1 == A1:\n",
    "    if a2 == A2:\n",
    "        if a3 == A3:\n",
    "            print(f\"{a1},{a2},{a3} are exact value \\n Thanks! you are right\")\n",
    "        else:\n",
    "            print(f\"{a1},{a2} are exact value but {a3} is wrong\")\n",
    "    else:\n",
    "        print(f\"{a1} is exact value but {a2},{a3} zre wrong\")\n",
    "\n",
    "else:\n",
    "    if a2 > A2:\n",
    "        if a3 > A3:\n",
    "            print(f\"{a1},{a2},{a3} are greater values \\n Thanks!\")\n",
    "        else:\n",
    "            print(f\"{a1},{a2} are greater values but {a3} is wrong\")\n",
    "    else:\n",
    "        print(f\"{a1} is greater value but {a2},{a3} is wrong\")\n",
    "        \n"
   ]
  },
  {
   "cell_type": "markdown",
   "metadata": {},
   "source": [
    "#  PYTHON LOOPS\n"
   ]
  },
  {
   "cell_type": "code",
   "execution_count": 7,
   "metadata": {},
   "outputs": [],
   "source": [
    " # For loop is used for a sequential transversal (It is used for iterating\n",
    "#  over an iterable like string,tuple,list, set and dictionary)\n"
   ]
  },
  {
   "cell_type": "code",
   "execution_count": 2,
   "metadata": {},
   "outputs": [
    {
     "name": "stdout",
     "output_type": "stream",
     "text": [
      "Tinubu\n",
      "Atiku\n",
      "P.Obi\n"
     ]
    }
   ],
   "source": [
    "A10 = [\"Tinubu\",\"Atiku\",\"P.Obi\"]\n",
    "\n",
    "for k in A10:\n",
    "    print(k)"
   ]
  },
  {
   "cell_type": "code",
   "execution_count": 4,
   "metadata": {},
   "outputs": [
    {
     "name": "stdout",
     "output_type": "stream",
     "text": [
      "The presidential candidate of FRN for 2023 election is Tinubu\n",
      "The presidential candidate of FRN for 2023 election is Atiku\n",
      "The presidential candidate of FRN for 2023 election is P.Obi\n"
     ]
    }
   ],
   "source": [
    "A10 = [\"Tinubu\",\"Atiku\",\"P.Obi\"]\n",
    "\n",
    "for k in A10:\n",
    "    print(\"The presidential candidate of FRN for 2023 election is\",k)"
   ]
  },
  {
   "cell_type": "code",
   "execution_count": 5,
   "metadata": {},
   "outputs": [
    {
     "name": "stdout",
     "output_type": "stream",
     "text": [
      "p\n",
      "r\n",
      "o\n",
      "g\n",
      "r\n",
      "a\n",
      "m\n",
      "m\n",
      "e\n",
      "r\n"
     ]
    }
   ],
   "source": [
    "A11 = \"programmer\"\n",
    "\n",
    "for i in A11:\n",
    "    print(i)"
   ]
  },
  {
   "cell_type": "code",
   "execution_count": 10,
   "metadata": {},
   "outputs": [
    {
     "name": "stdout",
     "output_type": "stream",
     "text": [
      "0\n",
      "1\n",
      "2\n",
      "3\n",
      "4\n",
      "5\n",
      "6\n",
      "7\n",
      "8\n",
      "9\n"
     ]
    }
   ],
   "source": [
    "for i in range(10):\n",
    "    print(i)"
   ]
  },
  {
   "cell_type": "code",
   "execution_count": 11,
   "metadata": {},
   "outputs": [
    {
     "name": "stdout",
     "output_type": "stream",
     "text": [
      "15\n",
      "16\n",
      "17\n",
      "18\n",
      "19\n",
      "20\n",
      "21\n",
      "22\n",
      "23\n",
      "24\n",
      "25\n",
      "26\n",
      "27\n",
      "28\n",
      "29\n"
     ]
    }
   ],
   "source": [
    "for i in range(15,30):\n",
    "    print(i)"
   ]
  },
  {
   "cell_type": "code",
   "execution_count": 14,
   "metadata": {},
   "outputs": [
    {
     "name": "stdout",
     "output_type": "stream",
     "text": [
      "2\n",
      "6\n",
      "10\n",
      "14\n",
      "18\n"
     ]
    }
   ],
   "source": [
    "for i in range(2,20,4):\n",
    "    print(i)"
   ]
  },
  {
   "cell_type": "code",
   "execution_count": 15,
   "metadata": {},
   "outputs": [
    {
     "name": "stdout",
     "output_type": "stream",
     "text": [
      "10 x 1 = 10\n",
      "10 x 2 = 20\n",
      "10 x 3 = 30\n",
      "10 x 4 = 40\n",
      "10 x 5 = 50\n",
      "10 x 6 = 60\n",
      "10 x 7 = 70\n",
      "10 x 8 = 80\n",
      "10 x 9 = 90\n",
      "10 x 10 = 100\n",
      "10 x 11 = 110\n",
      "10 x 12 = 120\n",
      "10 x 13 = 130\n",
      "10 x 14 = 140\n",
      "10 x 15 = 150\n",
      "10 x 16 = 160\n",
      "10 x 17 = 170\n",
      "10 x 18 = 180\n",
      "10 x 19 = 190\n"
     ]
    }
   ],
   "source": [
    "value = int(input(\"what is your desired table to get \\n\"))\n",
    "endpointval = int(input(\"set the endpoint for your value entered above \\n\"))\n",
    "\n",
    "for i in range(1,endpointval):\n",
    "    print(f\"{value} x {i} =\", value*i)"
   ]
  },
  {
   "cell_type": "code",
   "execution_count": 22,
   "metadata": {},
   "outputs": [
    {
     "name": "stdout",
     "output_type": "stream",
     "text": [
      "49\n"
     ]
    }
   ],
   "source": [
    "val = int(input(\"enter a value \\n\"))\n",
    "sum = 0\n",
    "\n",
    "for i in range(1,val):\n",
    "    sum_ = sum + i\n",
    "print(sum_)"
   ]
  },
  {
   "cell_type": "code",
   "execution_count": 23,
   "metadata": {},
   "outputs": [
    {
     "name": "stdout",
     "output_type": "stream",
     "text": [
      "p\n",
      "y\n",
      "t\n",
      "h\n",
      "Rain is about to fall\n",
      "n\n"
     ]
    }
   ],
   "source": [
    "for i in \"python\":\n",
    "    if i == \"o\":\n",
    "        print(\"Rain is about to fall\")\n",
    "        continue\n",
    "    print(i)"
   ]
  },
  {
   "cell_type": "code",
   "execution_count": 1,
   "metadata": {},
   "outputs": [
    {
     "name": "stdout",
     "output_type": "stream",
     "text": [
      "0\n"
     ]
    }
   ],
   "source": [
    "value = int(input(\"Get the sum of numbers here\\n input a number here\"))\n",
    "sum = 0\n",
    "val = int(input(\"first val\"))\n",
    "\n",
    "for i in range(val, value):\n",
    "    sum = sum + i\n",
    "print (sum)"
   ]
  },
  {
   "cell_type": "code",
   "execution_count": 5,
   "metadata": {},
   "outputs": [
    {
     "name": "stdout",
     "output_type": "stream",
     "text": [
      "python\n",
      "java\n",
      "c++\n",
      "Break is among\n"
     ]
    }
   ],
   "source": [
    "program = [\"python\",\"java\",\"c++\",\"c#\",\"rust\",\"dart\"]\n",
    "for prg in program:\n",
    "    print(prg)\n",
    "    if prg == \"c++\": \n",
    "        break\n",
    "print(\"Break is among\")"
   ]
  },
  {
   "cell_type": "code",
   "execution_count": 6,
   "metadata": {},
   "outputs": [
    {
     "name": "stdout",
     "output_type": "stream",
     "text": [
      "python\n",
      "java\n",
      "c++\n",
      "c#\n",
      "rust\n",
      "dart\n",
      "Break is among\n"
     ]
    }
   ],
   "source": [
    "program = [\"python\",\"java\",\"c++\",\"c#\",\"rust\",\"dart\"]\n",
    "for prg in program:\n",
    "    print(prg)\n",
    "    if prg == \"c++\": \n",
    "        continue\n",
    "print(\"Break is among\")"
   ]
  },
  {
   "cell_type": "code",
   "execution_count": 14,
   "metadata": {},
   "outputs": [
    {
     "name": "stdout",
     "output_type": "stream",
     "text": [
      "0\n",
      "1\n",
      "2\n",
      "3\n",
      "4\n",
      "Yes it is break\n"
     ]
    }
   ],
   "source": [
    "for i in range (10):\n",
    "    if i == 5:\n",
    "        print(\"Yes it is break\")\n",
    "        break\n",
    "    print(i)"
   ]
  },
  {
   "cell_type": "code",
   "execution_count": 12,
   "metadata": {},
   "outputs": [],
   "source": [
    "# classwork\n",
    "# write a program of your choice using nexted loop, data structure and relational operator\n",
    "# to output your desired problem."
   ]
  },
  {
   "cell_type": "code",
   "execution_count": 22,
   "metadata": {},
   "outputs": [
    {
     "name": "stdout",
     "output_type": "stream",
     "text": [
      "Elon musk owns one of these: ('facebook', 'instagram', 'twitter').\n",
      "Mark zuckerberg owns one of these: ('facebook', 'instagram', 'twitter').\n",
      "Bolt is a rich man and he is famous.\n",
      "Bolt owns one of these: ('facebook', 'instagram', 'twitter').\n",
      "Bolt is a rich man and he is famous.\n",
      "Elon musk owns one of these: ('facebook', 'instagram', 'twitter').\n",
      "Mark zuckerberg owns one of these: ('facebook', 'instagram', 'twitter').\n",
      "Bolt is a rich man and he is famous.\n",
      "Bolt owns one of these: ('facebook', 'instagram', 'twitter').\n",
      "Bolt is a rich man and he is famous.\n",
      "Elon musk owns one of these: ('facebook', 'instagram', 'twitter').\n",
      "Mark zuckerberg owns one of these: ('facebook', 'instagram', 'twitter').\n",
      "Bolt is a rich man and he is famous.\n",
      "Bolt owns one of these: ('facebook', 'instagram', 'twitter').\n",
      "Bolt is a rich man and he is famous.\n"
     ]
    }
   ],
   "source": [
    "fame = [\"Davido\",\"Wizkid\",\"Burna boy\"]\n",
    "rich = [\"Elon musk\",\"Mark zuckerberg\",\"Bolt\"]\n",
    "platform = \"facebook\",\"instagram\",\"twitter\"\n",
    "\n",
    "for i in fame:\n",
    "    for j in rich:\n",
    "        for k in platform:\n",
    "            if k == \"instagram\":\n",
    "                print(f'{j} owns one of these: {platform}.')\n",
    "                continue\n",
    "            if j == \"Bolt\":\n",
    "                print(f'{j} is a rich man and he is famous.')\n",
    "                continue\n",
    "            if i == \"wizkid\":\n",
    "                print(f'{i} is a celebrity.')"
   ]
  },
  {
   "cell_type": "markdown",
   "metadata": {},
   "source": [
    "# While loop"
   ]
  },
  {
   "cell_type": "code",
   "execution_count": null,
   "metadata": {},
   "outputs": [],
   "source": [
    "# python while loop is used to execute a block of statement repeatedly until a given condition is satisfied."
   ]
  },
  {
   "cell_type": "code",
   "execution_count": 18,
   "metadata": {},
   "outputs": [
    {
     "name": "stdout",
     "output_type": "stream",
     "text": [
      "2\n",
      "3\n",
      "4\n",
      "5\n",
      "6\n",
      "7\n",
      "8\n",
      "9\n",
      "10\n"
     ]
    }
   ],
   "source": [
    "i = 1\n",
    "\n",
    "while i < 10:\n",
    "    i +=1\n",
    "    print(i)\n"
   ]
  },
  {
   "cell_type": "code",
   "execution_count": 7,
   "metadata": {},
   "outputs": [
    {
     "name": "stdout",
     "output_type": "stream",
     "text": [
      "1 is known in the while loop\n",
      "2 is known in the while loop\n",
      "3 is known in the while loop\n",
      "4 is known in the while loop\n",
      "5 is known in the while loop\n"
     ]
    }
   ],
   "source": [
    "i = 0\n",
    "\n",
    "while i < 5:\n",
    "    i +=1\n",
    "    print(f'{i} is known in the while loop')"
   ]
  },
  {
   "cell_type": "code",
   "execution_count": 6,
   "metadata": {},
   "outputs": [
    {
     "name": "stdout",
     "output_type": "stream",
     "text": [
      "54\n",
      "43\n",
      "32\n",
      "21\n",
      "11\n"
     ]
    }
   ],
   "source": [
    "a = [11,21,32,43,54]\n",
    "\n",
    "while a:\n",
    "    print(a.pop())"
   ]
  },
  {
   "cell_type": "code",
   "execution_count": 2,
   "metadata": {},
   "outputs": [
    {
     "name": "stdout",
     "output_type": "stream",
     "text": [
      "Hi! while loop i need 1\n",
      "Hi! while loop i need 2\n",
      "Hi! while loop i need 3\n",
      "Hi! while loop i need 4\n",
      "Hi! while loop i need 5\n",
      "Hi! while loop i need 6\n",
      "Hi! while loop i need 7\n",
      "Hi! while loop i need 8\n",
      "Hi! while loop i need 9\n",
      "Hi! while loop i need 10\n",
      "Hi! while loop i need 11\n"
     ]
    }
   ],
   "source": [
    "x = 0\n",
    "while x in range(11):\n",
    "    x = x+ 1\n",
    "    print(f'Hi! while loop i need {x}')"
   ]
  },
  {
   "cell_type": "code",
   "execution_count": 2,
   "metadata": {},
   "outputs": [
    {
     "name": "stdout",
     "output_type": "stream",
     "text": [
      "Current: P\n",
      "Current: y\n",
      "Current: t\n",
      "Current: h\n",
      "Current: o\n",
      "Current: n\n",
      "Current:  \n",
      "Current: W\n",
      "Current: h\n",
      "Current: Okay\n",
      "Current: l\n",
      "Current: e\n",
      "Current:  \n",
      "Current: Okay\n",
      "Current: o\n",
      "Current: o\n",
      "Current: p\n"
     ]
    }
   ],
   "source": [
    "i = 0\n",
    "a = \"Python While Loop\"\n",
    "\n",
    "while i < len(a):\n",
    "    if a[i] == \"i\" or a[i] == \"L\":\n",
    "        i += 1\n",
    "        print(\"Current: Okay\")\n",
    "        continue\n",
    "    print(\"Current:\",a[i])\n",
    "    i += 1"
   ]
  },
  {
   "cell_type": "code",
   "execution_count": 6,
   "metadata": {},
   "outputs": [
    {
     "name": "stdout",
     "output_type": "stream",
     "text": [
      "1\n",
      "2\n",
      "3\n",
      "4\n",
      "5\n"
     ]
    }
   ],
   "source": [
    "# Break statement\n",
    "\n",
    "#  continue statement\n",
    "\n",
    "i = 1\n",
    "\n",
    "while i < 10:\n",
    "    print (i)\n",
    "    if i == 5:\n",
    "        break\n",
    "    i += 1"
   ]
  },
  {
   "cell_type": "code",
   "execution_count": 1,
   "metadata": {},
   "outputs": [
    {
     "name": "stdout",
     "output_type": "stream",
     "text": [
      "1\n",
      "2\n",
      "3\n",
      "4\n",
      "5\n",
      "6\n",
      "7\n",
      "8\n",
      "9\n"
     ]
    }
   ],
   "source": [
    "# Break statement\n",
    "\n",
    "#  continue statement\n",
    "\n",
    "i = 1\n",
    "\n",
    "while i < 10:\n",
    "    print (i)\n",
    "    if i == 5:\n",
    "        i += 1\n",
    "        continue\n",
    "    i += 1"
   ]
  },
  {
   "cell_type": "code",
   "execution_count": 4,
   "metadata": {},
   "outputs": [
    {
     "name": "stdout",
     "output_type": "stream",
     "text": [
      "1\n",
      "2\n",
      "3\n",
      "4\n",
      "5\n",
      "6\n",
      "7\n",
      "i is not value in 6 anymore\n"
     ]
    }
   ],
   "source": [
    "# else statement\n",
    "\n",
    "i = 1\n",
    "\n",
    "while i < 8:\n",
    "    print(i)\n",
    "    i += 1\n",
    "else:\n",
    "    print('i is not value in 6 anymore')"
   ]
  },
  {
   "cell_type": "code",
   "execution_count": 5,
   "metadata": {},
   "outputs": [
    {
     "name": "stdout",
     "output_type": "stream",
     "text": [
      "1\n",
      "2\n",
      "3\n",
      "5\n",
      "6\n",
      "7\n",
      "i is not value in 6 anymore\n"
     ]
    }
   ],
   "source": [
    "# else statement\n",
    "\n",
    "i = 1\n",
    "\n",
    "while i < 8:\n",
    "    if i == 4:\n",
    "        i += 1\n",
    "        continue\n",
    "    print(i)\n",
    "    i += 1\n",
    "else:\n",
    "    print('i is not value in 6 anymore')"
   ]
  },
  {
   "cell_type": "code",
   "execution_count": 1,
   "metadata": {},
   "outputs": [
    {
     "name": "stdout",
     "output_type": "stream",
     "text": [
      "1\n",
      "2\n",
      "3\n"
     ]
    }
   ],
   "source": [
    "# else statement\n",
    "\n",
    "i = 1\n",
    "\n",
    "while i < 8:\n",
    "    if i == 4:\n",
    "        i += 1\n",
    "        break\n",
    "    print(i)\n",
    "    i += 1\n",
    "else:\n",
    "    print('i is not value in 6 anymore')"
   ]
  },
  {
   "cell_type": "markdown",
   "metadata": {},
   "source": [
    "# PYTHON FUNCTION"
   ]
  },
  {
   "cell_type": "code",
   "execution_count": 4,
   "metadata": {},
   "outputs": [],
   "source": [
    "# A function in python is a block of code that can only run when it is called.\n",
    "\n",
    "# twp types of function in python.\n",
    "\n",
    "# 1. user define.\n",
    "# 2. in built."
   ]
  },
  {
   "cell_type": "code",
   "execution_count": 5,
   "metadata": {},
   "outputs": [
    {
     "name": "stdout",
     "output_type": "stream",
     "text": [
      "Good Morning\n"
     ]
    }
   ],
   "source": [
    "def greet():\n",
    "    # statement of the function.\n",
    "    a = 'Good Morning'\n",
    "    print(a)\n",
    "\n",
    "greet()"
   ]
  },
  {
   "cell_type": "code",
   "execution_count": 7,
   "metadata": {},
   "outputs": [
    {
     "name": "stdout",
     "output_type": "stream",
     "text": [
      "800\n"
     ]
    }
   ],
   "source": [
    "def _sum():\n",
    "    a = 100+200+500\n",
    "    print(a)\n",
    "_sum()"
   ]
  },
  {
   "cell_type": "code",
   "execution_count": 11,
   "metadata": {},
   "outputs": [
    {
     "name": "stdout",
     "output_type": "stream",
     "text": [
      "Wow! its good to know that Victor is a deveops\n"
     ]
    }
   ],
   "source": [
    "def add(a):\n",
    "    print(f'Wow! its good to know that {a} is a deveops')\n",
    "add('Victor')"
   ]
  },
  {
   "cell_type": "code",
   "execution_count": 12,
   "metadata": {},
   "outputs": [
    {
     "name": "stdout",
     "output_type": "stream",
     "text": [
      "Wow! its good to know that Victor is a Lawyer\n"
     ]
    }
   ],
   "source": [
    "def add(a,b):\n",
    "    print(f'Wow! its good to know that {a} is a {b}')\n",
    "add('Victor', 'Lawyer')"
   ]
  },
  {
   "cell_type": "code",
   "execution_count": 16,
   "metadata": {},
   "outputs": [
    {
     "name": "stdout",
     "output_type": "stream",
     "text": [
      "Hello, your name is Victor. \n",
      " you are 22 years old. \n",
      " Your hobby is Swimming. \n",
      " Your best food is Rice.\n"
     ]
    }
   ],
   "source": [
    "name = input('Enter your name.').capitalize()\n",
    "age = int(input('Enter your age'))\n",
    "hobby = input('What is your hobby?').capitalize()\n",
    "best_food = input('What is your best food?').capitalize()\n",
    "\n",
    "def user():\n",
    "    print(f'Hello, your name is {name}. \\n you are {age} years old. \\n Your hobby is {hobby}. \\n Your best food is {best_food}.')\n",
    "user()    "
   ]
  },
  {
   "cell_type": "code",
   "execution_count": 22,
   "metadata": {},
   "outputs": [
    {
     "name": "stdout",
     "output_type": "stream",
     "text": [
      "Hello, your name is Emeka Osuji. \n",
      " You are 44 years old. \n",
      " Your hobby is Playing football. \n",
      " Your best food is Beans.\n"
     ]
    }
   ],
   "source": [
    "name = input('Enter your name.').capitalize()\n",
    "age = int(input('Enter your age'))\n",
    "hobby = input('What is your hobby?').capitalize()\n",
    "best_food = input('What is your best food?').capitalize()\n",
    "\n",
    "def user(a):\n",
    "    print(f'Hello, your name is {name} {a}. \\n You are {age} years old. \\n Your hobby is {hobby}. \\n Your best food is {best_food}.')\n",
    "user('Osuji')    "
   ]
  },
  {
   "cell_type": "code",
   "execution_count": 2,
   "metadata": {},
   "outputs": [
    {
     "name": "stdout",
     "output_type": "stream",
     "text": [
      "Today is 31st of november in the year 2022 and you are 44 years old\n"
     ]
    }
   ],
   "source": [
    "def info(date,month,year,age):\n",
    "    print(f'Today is {date} of {month} in the year {year} and you are {age} years old')\n",
    "info(input('date'),input('month'),input('year'),input('age'))"
   ]
  },
  {
   "cell_type": "code",
   "execution_count": 3,
   "metadata": {},
   "outputs": [
    {
     "name": "stdout",
     "output_type": "stream",
     "text": [
      "The sum of 12 and 33 is 45\n"
     ]
    }
   ],
   "source": [
    "def sub(b,a=12):\n",
    "    c = a + b\n",
    "    print(f'The sum of {a} and {b} is {c}')\n",
    "sub(33)"
   ]
  },
  {
   "cell_type": "code",
   "execution_count": 4,
   "metadata": {},
   "outputs": [
    {
     "name": "stdout",
     "output_type": "stream",
     "text": [
      "The sum of 42 and 33 is 75\n"
     ]
    }
   ],
   "source": [
    "sub(33,42)"
   ]
  },
  {
   "cell_type": "code",
   "execution_count": 7,
   "metadata": {},
   "outputs": [
    {
     "name": "stdout",
     "output_type": "stream",
     "text": [
      "10 is even value\n"
     ]
    }
   ],
   "source": [
    "def checkOdd(num):\n",
    "    if num % 2 == 1:\n",
    "        print(f'{num} is odd value')\n",
    "    else:\n",
    "        print(f'{num} is even value')\n",
    "checkOdd(int(input('Enter a number to check.')))"
   ]
  },
  {
   "cell_type": "code",
   "execution_count": 8,
   "metadata": {},
   "outputs": [
    {
     "name": "stdout",
     "output_type": "stream",
     "text": [
      "Good Morning Feranmi\n",
      "Good Morning David\n",
      "Good Morning Victor\n"
     ]
    }
   ],
   "source": [
    "# Non keyword.\n",
    "\n",
    "def greet(*a):\n",
    "    for i in a:\n",
    "        print(f'Good Morning {i}')\n",
    "greet('Feranmi', 'David', 'Victor')"
   ]
  },
  {
   "cell_type": "code",
   "execution_count": 1,
   "metadata": {},
   "outputs": [
    {
     "name": "stdout",
     "output_type": "stream",
     "text": [
      "your name is Feranmi and you are 12 years old\n",
      "your name is Ade and you are 13 years old\n"
     ]
    }
   ],
   "source": [
    "def info1(**a):\n",
    "    for i,k in a.items():\n",
    "        print(F'your name is {i} and you are {k} years old')\n",
    "info1(Feranmi='12', Ade=13 )"
   ]
  },
  {
   "cell_type": "code",
   "execution_count": 2,
   "metadata": {},
   "outputs": [
    {
     "data": {
      "text/plain": [
       "1.5545600658445458e-10"
      ]
     },
     "execution_count": 2,
     "metadata": {},
     "output_type": "execute_result"
    }
   ],
   "source": [
    "# Return statement in function\n",
    "\n",
    "def divide(num1,numb2):\n",
    "    result = 56* num1 / 23**numb2\n",
    "    return result\n",
    "\n",
    "divide(5,9)"
   ]
  },
  {
   "cell_type": "code",
   "execution_count": 6,
   "metadata": {},
   "outputs": [
    {
     "name": "stdout",
     "output_type": "stream",
     "text": [
      "base of 50cm and height of 10cm is equal to 250.0 cm²\n"
     ]
    }
   ],
   "source": [
    "def area_tri(base,height):\n",
    "    formula = 1/2 * base * height\n",
    "    print(f'base of {base}cm and height of {height}cm is equal to {formula} cm²')\n",
    "area_tri(int(input('Enter base')), int(input('Enter height')))"
   ]
  },
  {
   "cell_type": "code",
   "execution_count": 9,
   "metadata": {},
   "outputs": [
    {
     "name": "stdout",
     "output_type": "stream",
     "text": [
      "The perimeter of tri. with 12,2,3,4 is 2160.0\n"
     ]
    }
   ],
   "source": [
    "def perimeter_triangle(s,a,b,c):\n",
    "    formula = (s*(s-a)*(s-b)*(s-c)**1/2)/2\n",
    "    print(f'The perimeter of tri. with {s},{a},{b},{c} is {formula}')\n",
    "perimeter_triangle(12,2,3,4)"
   ]
  },
  {
   "cell_type": "code",
   "execution_count": 13,
   "metadata": {},
   "outputs": [
    {
     "name": "stdout",
     "output_type": "stream",
     "text": [
      "['Gideon', 'Christy', 'Abel', 'Greg']\n"
     ]
    }
   ],
   "source": [
    "#  pass by reference\n",
    "\n",
    "def staff(name):\n",
    "    name[:3] = ['Gideon', 'Christy', 'Abel']\n",
    "\n",
    "staff_list = ['David', 'Daniel', 'Ogo', 'Feranmi']\n",
    "new_staff_2023 = ['Victor', 'Philip', 'Precious', 'Greg']\n",
    "staff(new_staff_2023)\n",
    "\n",
    "print(new_staff_2023)"
   ]
  },
  {
   "cell_type": "code",
   "execution_count": 2,
   "metadata": {},
   "outputs": [
    {
     "name": "stdout",
     "output_type": "stream",
     "text": [
      "Today is good\n"
     ]
    }
   ],
   "source": [
    "# Nested function\n",
    "\n",
    "def A1():\n",
    "    info = 'Today is good'\n",
    "    def A2():\n",
    "        print(info)\n",
    "    return A2()\n",
    "A1()"
   ]
  },
  {
   "cell_type": "code",
   "execution_count": 5,
   "metadata": {},
   "outputs": [
    {
     "name": "stdout",
     "output_type": "stream",
     "text": [
      "None\n"
     ]
    }
   ],
   "source": [
    "# write a function called chop that takes a list and modifies it, removing the first \n",
    "# and last elements, and returns none.\n",
    "\n",
    "def chop():\n",
    "    a = [1,2,3,4,5]\n",
    "    b = a.remove(1)\n",
    "    c = a.remove(5)\n",
    "    print(a.clear())\n",
    "chop()"
   ]
  },
  {
   "cell_type": "code",
   "execution_count": 18,
   "metadata": {},
   "outputs": [
    {
     "name": "stdout",
     "output_type": "stream",
     "text": [
      "6 10\n"
     ]
    }
   ],
   "source": [
    "def middle():\n",
    "    a = [6,7,8,9,10]\n",
    "    print(a[0],a[-1])\n",
    "middle()"
   ]
  },
  {
   "cell_type": "markdown",
   "metadata": {},
   "source": [
    "# MODULES IN PYTHON"
   ]
  },
  {
   "cell_type": "code",
   "execution_count": 28,
   "metadata": {},
   "outputs": [],
   "source": [
    "# modules in python is a file containing python definitions and\n",
    "# statements, examples could be function, classes and variables."
   ]
  },
  {
   "cell_type": "code",
   "execution_count": null,
   "metadata": {},
   "outputs": [],
   "source": [
    "info = {\n",
    "    'clubs': ['Arsenal','man city','Newcastle','Tottenham','United','Chelsea'],\n",
    "    'points': [34,32,27,26,21]\n",
    "}"
   ]
  },
  {
   "cell_type": "markdown",
   "metadata": {},
   "source": [
    "# Exception Handling"
   ]
  },
  {
   "cell_type": "code",
   "execution_count": 2,
   "metadata": {},
   "outputs": [],
   "source": [
    "# error: syntax error and exceptions.\n",
    "# Exception are raised when some internal events occur which changes the normal flow of the program."
   ]
  },
  {
   "cell_type": "code",
   "execution_count": 3,
   "metadata": {},
   "outputs": [
    {
     "ename": "ZeroDivisionError",
     "evalue": "division by zero",
     "output_type": "error",
     "traceback": [
      "\u001b[1;31m---------------------------------------------------------------------------\u001b[0m",
      "\u001b[1;31mZeroDivisionError\u001b[0m                         Traceback (most recent call last)",
      "Cell \u001b[1;32mIn [3], line 3\u001b[0m\n\u001b[0;32m      1\u001b[0m val \u001b[39m=\u001b[39m \u001b[39m20\u001b[39m\n\u001b[1;32m----> 3\u001b[0m sum_ \u001b[39m=\u001b[39m val\u001b[39m/\u001b[39m\u001b[39m0\u001b[39m\n\u001b[0;32m      4\u001b[0m \u001b[39mprint\u001b[39m(sum_)\n",
      "\u001b[1;31mZeroDivisionError\u001b[0m: division by zero"
     ]
    }
   ],
   "source": [
    "val = 20\n",
    "\n",
    "sum_ = val/0\n",
    "print(sum_)"
   ]
  },
  {
   "cell_type": "code",
   "execution_count": 5,
   "metadata": {},
   "outputs": [
    {
     "name": "stdout",
     "output_type": "stream",
     "text": [
      "Oops there is error in try method\n"
     ]
    }
   ],
   "source": [
    "try:\n",
    "    print(f'Today is a good day but i have not {eaten} till now')\n",
    "except:\n",
    "    print('Oops there is error in try method')"
   ]
  },
  {
   "cell_type": "code",
   "execution_count": 8,
   "metadata": {},
   "outputs": [
    {
     "name": "stdout",
     "output_type": "stream",
     "text": [
      "Today is a good day but i have not eaten till now\n"
     ]
    }
   ],
   "source": [
    "eating = 'eaten'\n",
    "try:\n",
    "    print(f'Today is a good day but i have not {eating} till now')\n",
    "except:\n",
    "    print('Oops there is error in try method')"
   ]
  },
  {
   "cell_type": "code",
   "execution_count": 9,
   "metadata": {},
   "outputs": [
    {
     "name": "stdout",
     "output_type": "stream",
     "text": [
      "The second Value is Tinubu\n",
      "The third value is ['Kwankwaso', 'Atiku', 'Tinubu', 'Peter Obi']\n"
     ]
    }
   ],
   "source": [
    "val = ['Peter Obi','Tinubu','Atiku','Kwankwaso']\n",
    "\n",
    "try:\n",
    "    print(f'The second Value is {val[1]}')\n",
    "\n",
    "    print(f'The third value is {val[::-1]}')\n",
    "except:\n",
    "    print('I dont know where the error is coming from')"
   ]
  },
  {
   "cell_type": "code",
   "execution_count": 24,
   "metadata": {},
   "outputs": [
    {
     "name": "stdout",
     "output_type": "stream",
     "text": [
      "The second Value is Tinubu\n",
      "I dont know where the error is coming from\n"
     ]
    }
   ],
   "source": [
    "val = ['Peter Obi','Tinubu','Atiku','Kwankwaso']\n",
    "\n",
    "try:\n",
    "    print(f'The second Value is {val[1]}')\n",
    "\n",
    "    print(f'The third value is {val[5]}')\n",
    "except:\n",
    "    print('I dont know where the error is coming from')"
   ]
  },
  {
   "cell_type": "code",
   "execution_count": 11,
   "metadata": {},
   "outputs": [
    {
     "name": "stdout",
     "output_type": "stream",
     "text": [
      "8\n"
     ]
    }
   ],
   "source": [
    "# constructive output method\n",
    "\n",
    "##format\n",
    "a = 8\n",
    "print(f'{a}')"
   ]
  },
  {
   "cell_type": "code",
   "execution_count": 22,
   "metadata": {},
   "outputs": [
    {
     "name": "stdout",
     "output_type": "stream",
     "text": [
      "The value is 8\n"
     ]
    }
   ],
   "source": [
    "print('The value is {}'.format(a))"
   ]
  },
  {
   "cell_type": "code",
   "execution_count": 21,
   "metadata": {},
   "outputs": [
    {
     "name": "stdout",
     "output_type": "stream",
     "text": [
      "The value is 8\n"
     ]
    }
   ],
   "source": [
    "print(\"The value is %d\" %(a))"
   ]
  },
  {
   "cell_type": "code",
   "execution_count": 12,
   "metadata": {},
   "outputs": [
    {
     "name": "stdout",
     "output_type": "stream",
     "text": [
      "Either Victor or your password (ti****) is not correct.\n"
     ]
    }
   ],
   "source": [
    "# catching specific exception\n",
    "\n",
    "# database\n",
    "\n",
    "names = ['Benice','Victor','Brian','Peter']\n",
    "passwords = ['benRich','vicktor','tinubu','123Fisher']\n",
    "\n",
    "try:\n",
    "    username = input('Kindly enter your username.')\n",
    "    password = input('Enter your password.')\n",
    "    a = len(password[2:]) * '*'\n",
    "\n",
    "    if username in names:\n",
    "        print(f'{username} is known')\n",
    "        if password in passwords:\n",
    "            print(f'{username} and your password ({password[0:2]}{a}) is verified.')\n",
    "        else:\n",
    "            print(f'your password ({password[0:2]}{a}) is not known.')\n",
    "    else:\n",
    "        print(f'Either {username.capitalize()} or your password ({password[0:2]}{a}) is not correct.')\n",
    "    \n",
    "except:\n",
    "    print('Oops')"
   ]
  },
  {
   "cell_type": "code",
   "execution_count": 2,
   "metadata": {},
   "outputs": [
    {
     "name": "stdout",
     "output_type": "stream",
     "text": [
      "Username (victor), password (cool) and email () is valid.\n"
     ]
    }
   ],
   "source": [
    "database = {\n",
    "    'ifekeyz_': ['12345','freanmi.micheal@gmail.com'],\n",
    "    'benice': ['always','benice123@niit.com'],\n",
    "    'victor': ['cool','victor@123']\n",
    "}\n",
    "\n",
    "\n",
    "username = input('Enter your username: ')\n",
    "try:\n",
    "    if username in database:\n",
    "        password = input('Enter your password: ')\n",
    "        if password in database[username][0]:\n",
    "            email = input('Enter your email address')\n",
    "            if email in database[username][1]:\n",
    "                print(f'Username ({username}), password ({password}) and email ({email}) is valid.')\n",
    "            else:\n",
    "                print('email is unknown.')\n",
    "        else:\n",
    "            print(f'Oops! incorrect password provided {password}')\n",
    "    else:\n",
    "        print('Oops! username not found.')\n",
    "except:\n",
    "    pass"
   ]
  },
  {
   "cell_type": "code",
   "execution_count": 2,
   "metadata": {},
   "outputs": [
    {
     "ename": "IndentationError",
     "evalue": "expected an indented block after 'if' statement on line 3 (4138307880.py, line 4)",
     "output_type": "error",
     "traceback": [
      "\u001b[1;36m  Cell \u001b[1;32mIn [2], line 4\u001b[1;36m\u001b[0m\n\u001b[1;33m    else:\u001b[0m\n\u001b[1;37m    ^\u001b[0m\n\u001b[1;31mIndentationError\u001b[0m\u001b[1;31m:\u001b[0m expected an indented block after 'if' statement on line 3\n"
     ]
    }
   ],
   "source": [
    "# indentation error\n",
    "\n",
    "if a == 2:\n",
    "else:"
   ]
  },
  {
   "cell_type": "code",
   "execution_count": 13,
   "metadata": {},
   "outputs": [
    {
     "ename": "AttributeError",
     "evalue": "'str' object has no attribute 'values'",
     "output_type": "error",
     "traceback": [
      "\u001b[1;31m---------------------------------------------------------------------------\u001b[0m",
      "\u001b[1;31mAttributeError\u001b[0m                            Traceback (most recent call last)",
      "Cell \u001b[1;32mIn [13], line 1\u001b[0m\n\u001b[1;32m----> 1\u001b[0m ok \u001b[39m=\u001b[39m \u001b[39minput\u001b[39m(\u001b[39m'\u001b[39m\u001b[39m'\u001b[39m)\u001b[39m.\u001b[39mvalues(\u001b[39m3\u001b[39m)\n",
      "\u001b[1;31mAttributeError\u001b[0m: 'str' object has no attribute 'values'"
     ]
    }
   ],
   "source": [
    "# Attribute error.\n",
    "ok = input('').values(3)"
   ]
  },
  {
   "cell_type": "markdown",
   "metadata": {},
   "source": [
    "# Regular expression (RegEx)\n"
   ]
  },
  {
   "cell_type": "markdown",
   "metadata": {},
   "source": [
    "Regular expression is a sequence of character that defines a search pattern, \n",
    "mainly for use in pattern matching with string."
   ]
  },
  {
   "cell_type": "code",
   "execution_count": 14,
   "metadata": {},
   "outputs": [],
   "source": [
    "# RegEx Functions\n",
    "\n",
    "# 1. Findall - it actually returns a list containing all matches.\n",
    "# 2. Search - it returns the specific or a match object if there's a match in the string.\n",
    "# 3. Split - it returns a list where the string has been split at each match.\n",
    "# 4. Sub - replaces one or many matches with string "
   ]
  },
  {
   "cell_type": "code",
   "execution_count": 15,
   "metadata": {},
   "outputs": [],
   "source": [
    "# MetaCharacter\n",
    "\n",
    "\n",
    "# 1. [] - a set of character \n",
    "# 2. \\ signals a special sequence\n",
    "# 3. Dot (.) - any character except new line character\n",
    "# 4. ^ - starts with \n",
    "# 5  $ - Ends with\n",
    "# 6. | - Either\n",
    "# 7. () - Capture and group"
   ]
  },
  {
   "cell_type": "code",
   "execution_count": 1,
   "metadata": {},
   "outputs": [],
   "source": [
    "# Special Sequence (\\)\n",
    "\n",
    "\n",
    "# 1. A - returns a match if the specified character are at the begining of the stirng.\n",
    "# 2. b - returns at the begining or the end.\n",
    "# 3. d - returns nubers.\n",
    "# 4. B - returns special value position but not as a and b\n",
    "# 5. S - Does not include white space character\n",
    "# 6. s - Includes white space character"
   ]
  },
  {
   "cell_type": "code",
   "execution_count": 23,
   "metadata": {},
   "outputs": [
    {
     "name": "stdout",
     "output_type": "stream",
     "text": [
      "['d', 'a', 'a', 'g', 'd', 'd', 'a']\n"
     ]
    }
   ],
   "source": [
    "import re\n",
    "\n",
    "value = 'Today is a good day'\n",
    "\n",
    "ass = re.findall('[a-g]',value)\n",
    "print(ass)"
   ]
  },
  {
   "cell_type": "code",
   "execution_count": 25,
   "metadata": {},
   "outputs": [
    {
     "name": "stdout",
     "output_type": "stream",
     "text": [
      "['2', '0', '2', '3'] is the first character in the sequence\n"
     ]
    }
   ],
   "source": [
    "new = 'Python is great to learn in 2023'\n",
    "val = re.findall('\\d', new)\n",
    "if val:\n",
    "    print(f'{val} is the first character in the sequence')\n",
    "else:\n",
    "    print(f'{val} is not the first')"
   ]
  },
  {
   "cell_type": "code",
   "execution_count": 27,
   "metadata": {},
   "outputs": [
    {
     "name": "stdout",
     "output_type": "stream",
     "text": [
      "[] is not the first\n"
     ]
    }
   ],
   "source": [
    "new = 'Python is great to learn in 2023 yes we know'\n",
    "val = re.findall('\\bknown', new)\n",
    "if val:\n",
    "    print(f'{val} is the first character in the sequence')\n",
    "else:\n",
    "    print(f'{val} is not the first')"
   ]
  },
  {
   "cell_type": "code",
   "execution_count": 2,
   "metadata": {},
   "outputs": [
    {
     "name": "stdout",
     "output_type": "stream",
     "text": [
      "['jack@niit.com', 'nancy@niit.com']\n"
     ]
    }
   ],
   "source": [
    "import re\n",
    "\n",
    "statement = 'Hello from jack@niit.com to nancy@niit.com about the meeting @ 4pm.'\n",
    "\n",
    "email = re.findall('\\S+@\\S+', statement)\n",
    "print(email)"
   ]
  },
  {
   "cell_type": "code",
   "execution_count": 10,
   "metadata": {},
   "outputs": [
    {
     "name": "stdout",
     "output_type": "stream",
     "text": [
      "['$10.00', '$5.00']\n"
     ]
    }
   ],
   "source": [
    "x = 'we just recieved $10.00 for and $5.00 cokkies.'\n",
    "y = re.findall('\\$[0-9.]+', x)\n",
    "print(y)"
   ]
  },
  {
   "cell_type": "code",
   "execution_count": 4,
   "metadata": {},
   "outputs": [
    {
     "name": "stdout",
     "output_type": "stream",
     "text": [
      "kprjorkrkrk@ is not a valid email address.\n"
     ]
    }
   ],
   "source": [
    "# email address validation.\n",
    "\n",
    "email_val = '[A-Za-z0-9._-]+@[A-Za-z0-9._-]+\\.[A-Za-z]'\n",
    "\n",
    "def check_email(email):\n",
    "    if(re.search(email_val, email)):\n",
    "        print(f'{email} is a valid email address.')\n",
    "    else:\n",
    "        print(f'{email} is not a valid email address.')\n",
    "check_email(input('Enter your email address'))"
   ]
  },
  {
   "cell_type": "code",
   "execution_count": 7,
   "metadata": {},
   "outputs": [
    {
     "name": "stdout",
     "output_type": "stream",
     "text": [
      "✅\n"
     ]
    }
   ],
   "source": [
    "# password verification.\n",
    "\n",
    "password = input('Please give a password with 6 characters')\n",
    "\n",
    "if len(re.findall('[A-Za-z0-9.+@#!%^&*()_]', password)) >= 6:\n",
    "    print('✅')\n",
    "else:\n",
    "    print('❌')\n"
   ]
  },
  {
   "cell_type": "markdown",
   "metadata": {},
   "source": [
    "# Python OOP"
   ]
  },
  {
   "cell_type": "code",
   "execution_count": 12,
   "metadata": {},
   "outputs": [],
   "source": [
    "# class\n",
    "# object\n",
    "# instance\n",
    "# attribute (variable)\n",
    "# identity\n",
    "# blue print or proto type\n",
    "# constructor\n",
    "# inheritance\n",
    "# method\n",
    "# polymophism\n",
    "# encapsulation\n",
    "# data abstraction\n",
    "# statics\n"
   ]
  },
  {
   "cell_type": "code",
   "execution_count": 11,
   "metadata": {},
   "outputs": [],
   "source": [
    "# class is a user defined data type (it actually consists of data members and member functions)."
   ]
  },
  {
   "cell_type": "code",
   "execution_count": 19,
   "metadata": {},
   "outputs": [
    {
     "name": "stdout",
     "output_type": "stream",
     "text": [
      "Ekuke 5\n",
      "Yes Ekuke can sleep\n"
     ]
    }
   ],
   "source": [
    "class Dog1:\n",
    "    # attribute of a class\n",
    "    name = 'Ekuke'\n",
    "    age = 5\n",
    "    # method\n",
    "    def sleep(self):\n",
    "        print('Yes Ekuke can sleep')\n",
    "ekuke = Dog1()\n",
    "dog = Dog1()\n",
    "print(dog.name,dog.age)\n",
    "dog.sleep()"
   ]
  },
  {
   "cell_type": "code",
   "execution_count": 20,
   "metadata": {},
   "outputs": [],
   "source": [
    "class USA:\n",
    "    president = 'Joe Biden'\n",
    "    speciality = 'Client base country'\n",
    "    economy = 'Very good'\n",
    "    security = 'Very good'\n",
    "    \n",
    "    def war(self):\n",
    "        weapon = 'Nuclear'\n",
    "        print(f'{weapon} is their best instrument of the year')\n",
    "\n",
    "    def manufacture(self):\n",
    "        print('What a country with productivity ideas')\n",
    "\n",
    "\n",
    "class Nigeria:\n",
    "    president = 'M. Buhari'\n",
    "    speciality = 'Nothing'\n",
    "    economy = 'Worst'\n",
    "    security = 'Inexistent'\n",
    "\n",
    "    def war(self):\n",
    "       weapon = 'Cutlass'\n",
    "       print(f'{weapon} is their best instrument of the year')\n",
    "\n",
    "    def manufacture(self):\n",
    "        print('What a country with zero ideas')"
   ]
  },
  {
   "cell_type": "code",
   "execution_count": 21,
   "metadata": {},
   "outputs": [
    {
     "data": {
      "text/plain": [
       "'Very good'"
      ]
     },
     "execution_count": 21,
     "metadata": {},
     "output_type": "execute_result"
    }
   ],
   "source": [
    "usa = USA()\n",
    "usa.economy"
   ]
  },
  {
   "cell_type": "code",
   "execution_count": 23,
   "metadata": {},
   "outputs": [
    {
     "name": "stdout",
     "output_type": "stream",
     "text": [
      "Nuclear is their best instrument of the year\n"
     ]
    }
   ],
   "source": [
    "usa.war()"
   ]
  },
  {
   "cell_type": "code",
   "execution_count": 26,
   "metadata": {},
   "outputs": [
    {
     "name": "stdout",
     "output_type": "stream",
     "text": [
      "Cutlass is their best instrument of the year\n"
     ]
    }
   ],
   "source": [
    "ng = Nigeria()\n",
    "ng.war()"
   ]
  },
  {
   "cell_type": "code",
   "execution_count": 3,
   "metadata": {},
   "outputs": [],
   "source": [
    "# constructor\n",
    "\n",
    "class school:\n",
    "    rank = 'First state technology'\n",
    "\n",
    "    # constructor\n",
    "    def __init__(self,faculty):\n",
    "        self.name = faculty\n",
    "\n",
    "    def Lautech(self):\n",
    "        print('Oops! it play')\n",
    "    def Unilag(self):\n",
    "        print('Oops! it club')\n",
    "    def Uniben(self):\n",
    "        print('Oops! it all')"
   ]
  },
  {
   "cell_type": "code",
   "execution_count": 32,
   "metadata": {},
   "outputs": [
    {
     "data": {
      "text/plain": [
       "'LAUTECH'"
      ]
     },
     "execution_count": 32,
     "metadata": {},
     "output_type": "execute_result"
    }
   ],
   "source": [
    "lautech = school('LAUTECH')\n",
    "lautech.name"
   ]
  },
  {
   "cell_type": "code",
   "execution_count": 33,
   "metadata": {},
   "outputs": [
    {
     "data": {
      "text/plain": [
       "'UNILAG'"
      ]
     },
     "execution_count": 33,
     "metadata": {},
     "output_type": "execute_result"
    }
   ],
   "source": [
    "unilag = school('UNILAG')\n",
    "unilag.name"
   ]
  },
  {
   "cell_type": "code",
   "execution_count": 4,
   "metadata": {},
   "outputs": [
    {
     "data": {
      "text/plain": [
       "'UNIBEN'"
      ]
     },
     "execution_count": 4,
     "metadata": {},
     "output_type": "execute_result"
    }
   ],
   "source": [
    "uniben = school('UNIBEN')\n",
    "uniben.name"
   ]
  },
  {
   "cell_type": "markdown",
   "metadata": {},
   "source": [
    "# Inheritance\n"
   ]
  },
  {
   "cell_type": "code",
   "execution_count": 1,
   "metadata": {},
   "outputs": [],
   "source": [
    "# Inheritance is a capability of one class to derive or inherit the property of one class.\n",
    "\n",
    "# Types of inheritance\n",
    "\n",
    "# 1. single inheritance - its enables a derived class to inherit characteristics from a single parent class.\n",
    "# 2. multiple inheritance - when a child class inherits from multiple parent classes."
   ]
  },
  {
   "cell_type": "markdown",
   "metadata": {},
   "source": [
    "# single inheritance"
   ]
  },
  {
   "cell_type": "markdown",
   "metadata": {},
   "source": [
    "<!-- single inheritance -->"
   ]
  },
  {
   "cell_type": "code",
   "execution_count": 2,
   "metadata": {},
   "outputs": [
    {
     "data": {
      "text/plain": [
       "'Dear Feranmi your ID is NIIT2022SWD and your post is Software Developer.'"
      ]
     },
     "execution_count": 2,
     "metadata": {},
     "output_type": "execute_result"
    }
   ],
   "source": [
    "class Company:\n",
    "    def __init__(self,name,idnumber):\n",
    "        self.name = name\n",
    "        self.idnumber = idnumber\n",
    "\n",
    "    def display(self):\n",
    "        return self.name, self.idnumber\n",
    "\n",
    "class Employee(Company):\n",
    "    def __init__(self,name,idnumber,salary,post):\n",
    "        self.salary = salary\n",
    "        self.post = post\n",
    "\n",
    "        Company.__init__(self,name,idnumber)\n",
    "\n",
    "    def display(self):\n",
    "        return f'Dear {self.name} your ID is {self.idnumber} and your post is {self.post}.'\n",
    "\n",
    "emp1 = Employee('Feranmi','NIIT2022SWD',20000,'Software Developer')\n",
    "emp2 = Employee('Victor','NIIT2022DGM',100000,'Digital marketer')\n",
    "\n",
    "\n",
    "emp1.display()"
   ]
  },
  {
   "cell_type": "code",
   "execution_count": 21,
   "metadata": {},
   "outputs": [
    {
     "name": "stdout",
     "output_type": "stream",
     "text": [
      "Guardiola\n"
     ]
    },
    {
     "data": {
      "text/plain": [
       "'Lionel Messi'"
      ]
     },
     "execution_count": 21,
     "metadata": {},
     "output_type": "execute_result"
    }
   ],
   "source": [
    "class Coach:\n",
    "    def __init__(self,name):\n",
    "        self.name = name\n",
    "\n",
    "    def GetName(self):\n",
    "        return self.name\n",
    "    \n",
    "    def IsSuperStar(self):\n",
    "        return False\n",
    "\n",
    "class Player(Coach):\n",
    "     def IsSuperStar(self):\n",
    "        return True\n",
    "\n",
    "obj1 = Coach('Guardiola')\n",
    "print(obj1.name)\n",
    "\n",
    "\n",
    "obj2 = Player('Lionel Messi')\n",
    "# obj2.IsSuperStar()\n",
    "# obj2.GetName()\n",
    "obj2.name\n"
   ]
  },
  {
   "cell_type": "markdown",
   "metadata": {},
   "source": [
    "# Multiple Inheritance"
   ]
  },
  {
   "cell_type": "markdown",
   "metadata": {},
   "source": [
    "When a child class inherits from multiple parent classes."
   ]
  },
  {
   "cell_type": "code",
   "execution_count": 23,
   "metadata": {},
   "outputs": [
    {
     "data": {
      "text/plain": [
       "'Oops! now i am blessed with Lautech from daddy and $40k from Pappy'"
      ]
     },
     "execution_count": 23,
     "metadata": {},
     "output_type": "execute_result"
    }
   ],
   "source": [
    "class Father:\n",
    "    def __init__(self):\n",
    "        self.education = 'Lautech'\n",
    "        return self.education\n",
    "\n",
    "class StepFather:\n",
    "    def __init__(self):\n",
    "        self.money = '$40k'\n",
    "        return self.money\n",
    "\n",
    "class Son(Father,StepFather):\n",
    "    def __init__(self):\n",
    "        Father.__init__(self)\n",
    "        StepFather.__init__(self)\n",
    "\n",
    "    def MyReward(self):\n",
    "        return f'Oops! now i am blessed with {self.education} from daddy and {self.money} from Pappy'\n",
    "\n",
    "\n",
    "feranmi = Son()\n",
    "feranmi.MyReward()"
   ]
  },
  {
   "cell_type": "markdown",
   "metadata": {},
   "source": [
    "# Multi-level inheritance "
   ]
  },
  {
   "cell_type": "markdown",
   "metadata": {},
   "source": [
    "it enbles a derived class to inherit the properties from an immediate parent class \n",
    "which in turn inherits peoperties from his parent class"
   ]
  },
  {
   "cell_type": "code",
   "execution_count": 3,
   "metadata": {},
   "outputs": [
    {
     "data": {
      "text/plain": [
       "'Oops! he has a level of 0%'"
      ]
     },
     "execution_count": 3,
     "metadata": {},
     "output_type": "execute_result"
    }
   ],
   "source": [
    "class micky:\n",
    "    def __init__(self,name,knowledge):\n",
    "        self.name = 'michelle'\n",
    "        self.knowledge = '100%'\n",
    "\n",
    "    def isSuperStar(self):\n",
    "        return True\n",
    "class clever(micky):\n",
    "    def __init__(self,name,knowledge):\n",
    "       self.name = name\n",
    "       self.knwoledge = knowledge\n",
    "\n",
    "    def isSuperStar(self):\n",
    "        return f'Oops! he has a level of {self.knowledge}'\n",
    "class ifekeyz(clever):\n",
    "    def __init__(self,name,knowledge):\n",
    "        self.name = name\n",
    "        self.knowledge = knowledge\n",
    "\n",
    "    def isSuperStar(self):\n",
    "        return f'Oops! he has a level of {self.knowledge}'\n",
    "\n",
    "\n",
    "obj = ifekeyz('Feranmi','0%')\n",
    "obj.isSuperStar()"
   ]
  },
  {
   "cell_type": "code",
   "execution_count": 7,
   "metadata": {},
   "outputs": [
    {
     "name": "stdout",
     "output_type": "stream",
     "text": [
      "My name is Victor, i'm 30 years old and my house address is 12b Heaven gate\n"
     ]
    }
   ],
   "source": [
    "class parent:\n",
    "    def __init__(self,name):\n",
    "        self.name = name\n",
    "\n",
    "    def getname(self):\n",
    "        return self.name\n",
    "\n",
    "class child(parent):\n",
    "    def __init__(self,name,age):\n",
    "        parent.__init__(self,name)\n",
    "        self.age = age\n",
    "\n",
    "    def getage(self):\n",
    "        return self.age\n",
    "\n",
    "class grandchild(child):\n",
    "    def __init__(self,name,age,address):\n",
    "        child.__init__(self,name,age)\n",
    "        self.address = address\n",
    "\n",
    "\n",
    "    def getaddress(self):\n",
    "        return self.address\n",
    "\n",
    "\n",
    "obj = grandchild('Victor',30,'12b Heaven gate')\n",
    "print(f'My name is {obj.name}, i\\'m {obj.age} years old and my house address is {obj.address}')"
   ]
  },
  {
   "cell_type": "markdown",
   "metadata": {},
   "source": [
    "# Hierachy inheritance"
   ]
  },
  {
   "cell_type": "markdown",
   "metadata": {},
   "source": [
    "hierachy is derived when more than one derived class are created from a single class."
   ]
  },
  {
   "cell_type": "code",
   "execution_count": 8,
   "metadata": {},
   "outputs": [
    {
     "name": "stdout",
     "output_type": "stream",
     "text": [
      "Tinubu Asiwaju\n"
     ]
    }
   ],
   "source": [
    "class parent:\n",
    "    def speciality(self):\n",
    "        print('This method is in parent class')\n",
    "\n",
    "\n",
    "class child1(parent):\n",
    "    def name1(self):\n",
    "        print('Barak Obama')\n",
    "\n",
    "class child2(parent):\n",
    "    def name2(self):\n",
    "        print('Peter Obi')\n",
    "\n",
    "class child3(parent):\n",
    "    def name3(self):\n",
    "        print('Tinubu Asiwaju')\n",
    "\n",
    "child1 = child1()\n",
    "child2 = child2()\n",
    "child3 = child3()\n",
    "\n",
    "child3.name3()"
   ]
  },
  {
   "cell_type": "code",
   "execution_count": 1,
   "metadata": {},
   "outputs": [],
   "source": [
    "class A:\n",
    "    def __init__(self,name):\n",
    "        self.name = name\n",
    "class B:\n",
    "    def __init__(self,name,age):\n",
    "        self.age = age\n",
    "        self.name = name\n",
    "class A1(A,B):\n",
    "    def __init__(self,name,age,school):\n",
    "        A.__init__(self,name)\n",
    "        B.__init__(self,name,age)\n",
    "        self.school = school\n",
    "class A2(A,B):\n",
    "    def __init__(self,name,age,school,church):\n",
    "        A.__init__(self,name)\n",
    "        B.__init__(self,name,age)\n",
    "        self.school = school\n",
    "        self.church = church\n",
    "class B1(A,B):\n",
    "    def __init__(self,name,age,school,church,friend):\n",
    "        A.__init__(self,name)\n",
    "        B.__init__(self,name,age)\n",
    "        self.school = school\n",
    "        self.church = church\n",
    "        self.friend = friend\n",
    "class B2(A,B):\n",
    "    def __init__(self,name,age,school,church,friend,mom):\n",
    "        A.__init__(self,name)\n",
    "        B.__init__(self,name,age)\n",
    "        self.school = school\n",
    "        self.church = church\n",
    "        self.friend = friend\n",
    "        self.mom = mom"
   ]
  },
  {
   "cell_type": "code",
   "execution_count": null,
   "metadata": {},
   "outputs": [],
   "source": [
    "class polygon:\n",
    "    def __init__(self,no_of_sides):\n",
    "        self.n = no_of_sides\n",
    "        self.sides = [\n",
    "            0 for i in range(no_of_sides)\n",
    "        ]\n",
    "\n",
    "    def inputsides(self):\n",
    "        self.sides = [\n",
    "            float(input('Enter side'+ str(i+1)+':' )) for i in range(self.n)\n",
    "        ]\n",
    "\n",
    "    \n",
    "    def display(self):\n",
    "        for i in range(self.n):\n",
    "            print('Side',i+1,self.sides[i])\n",
    "\n",
    "    \n",
    "class triangle(polygon):\n",
    "    def __init__(self):\n",
    "        polygon.__init__(self,3)\n",
    "\n",
    "\n",
    "    def findArea(self):\n",
    "        a,b,c = self.sides\n",
    "        # call the area of triangle\n",
    "        s = (a+b+c)/2\n",
    "        area = (s*(s-a)*(s-b)*(s-c))**0.5\n",
    "        print(f'The area of the triangle is {area}')\n",
    "\n",
    "\n",
    "class pentagon(polygon):\n",
    "    def __init__(self):\n",
    "        polygon.__init__(self,5)\n",
    "\n",
    "    def findArea(self):\n",
    "        a,b,c,d,e = self.sides\n",
    "        # call the area of pentagon\n",
    "        s = (a+b+c+d+e)/2\n",
    "        area = (s*(s-a)*(s-b)*(s-c)*(s-d)*(s-e))**0.5\n",
    "        print(f'The area of the pentagon is {area}')"
   ]
  },
  {
   "cell_type": "markdown",
   "metadata": {},
   "source": [
    "# Game project"
   ]
  },
  {
   "cell_type": "code",
   "execution_count": 1,
   "metadata": {},
   "outputs": [],
   "source": [
    "import random\n",
    "from math import *\n",
    "import time\n",
    "\n",
    "class Game:\n",
    "    def __init__(self,val1,val2,ans):\n",
    "        self.val1 = val1\n",
    "        self.val2 = val2\n",
    "        self.ans = ans\n",
    "\n",
    "class Player(Game):\n",
    "    def __init__(self):\n",
    "        x = random.randint(20,30)\n",
    "        y = random.randint(212,300)\n",
    "        z = x+y\n",
    "        Game.__init__(self,val1=x,val2=y,ans=z)\n",
    "\n",
    "    def playnow(self):\n",
    "        x = int(input(f'supply the sum of {self.val1} and {self.val2}'))\n",
    "        if x == self.ans:\n",
    "            return f'Wow! you are correct, {self.val1} + {self.val2} = {self.ans} ✅'\n",
    "        else:\n",
    "            return f'Oops! what an incorrect supply {x} ❌'\n",
    "        "
   ]
  },
  {
   "cell_type": "code",
   "execution_count": 2,
   "metadata": {},
   "outputs": [],
   "source": [
    "play = Player()"
   ]
  },
  {
   "cell_type": "code",
   "execution_count": 5,
   "metadata": {},
   "outputs": [
    {
     "data": {
      "text/plain": [
       "'Wow! you are correct, 22 + 291 = 313 ✅'"
      ]
     },
     "execution_count": 5,
     "metadata": {},
     "output_type": "execute_result"
    }
   ],
   "source": [
    "play.playnow()"
   ]
  },
  {
   "cell_type": "markdown",
   "metadata": {},
   "source": [
    "# Encapsulation"
   ]
  },
  {
   "attachments": {},
   "cell_type": "markdown",
   "metadata": {},
   "source": [
    "It describes the idea of wrapping data and the methods directly within one unit (class)."
   ]
  },
  {
   "cell_type": "code",
   "execution_count": 7,
   "metadata": {},
   "outputs": [
    {
     "name": "stdout",
     "output_type": "stream",
     "text": [
      "finance gave the report of $100000 at the end of the year 2022\n",
      "from Audit dept. \n",
      " We notice $7600000.0 in finance report.\n"
     ]
    }
   ],
   "source": [
    "class Finance:\n",
    "    def __init__(self):\n",
    "        # protected data\n",
    "        self.capital = 1000000\n",
    "        self.mainBalance = 100000\n",
    "\n",
    "\n",
    "class Audit(Finance):\n",
    "    def __init__(self):\n",
    "        Finance.__init__(self)\n",
    "        assignment = self.capital - self.mainBalance\n",
    "        final_audit = assignment\n",
    "        self.mainBalance = self.mainBalance + assignment / 0.12\n",
    "\n",
    "\n",
    "\n",
    "\n",
    "audit = Audit()\n",
    "finance = Finance()\n",
    "\n",
    "\n",
    "print(f'finance gave the report of ${finance.mainBalance} at the end of the year 2022')\n",
    "print(f'from Audit dept. \\n We notice ${audit.mainBalance} in finance report.')\n"
   ]
  },
  {
   "cell_type": "markdown",
   "metadata": {},
   "source": [
    "# Polymorphism"
   ]
  },
  {
   "attachments": {},
   "cell_type": "markdown",
   "metadata": {},
   "source": [
    "It means having many forms(function name but different signatures)"
   ]
  },
  {
   "cell_type": "code",
   "execution_count": 8,
   "metadata": {},
   "outputs": [
    {
     "data": {
      "text/plain": [
       "410"
      ]
     },
     "execution_count": 8,
     "metadata": {},
     "output_type": "execute_result"
    }
   ],
   "source": [
    "def add(x,y,z=0):\n",
    "    return 20 * x + y + z\n",
    "add(20,10)"
   ]
  },
  {
   "cell_type": "code",
   "execution_count": 9,
   "metadata": {},
   "outputs": [
    {
     "data": {
      "text/plain": [
       "440"
      ]
     },
     "execution_count": 9,
     "metadata": {},
     "output_type": "execute_result"
    }
   ],
   "source": [
    "add(20,10,30)"
   ]
  },
  {
   "cell_type": "code",
   "execution_count": 5,
   "metadata": {},
   "outputs": [
    {
     "name": "stdout",
     "output_type": "stream",
     "text": [
      "Yes, Lionel Messi is the real GOAT 🐐\n",
      "Lionel Messi is from Argentina\n",
      "Lionel Messi will definitely win the World cup\n",
      "Ronaldo is't a real GOAT\n",
      "Ronaldo is from Portugal\n",
      "Ronaldo doesn't have a World cup\n"
     ]
    }
   ],
   "source": [
    "class Messi:\n",
    "    def realGoat(self):\n",
    "        return 'Yes, Lionel Messi is the real GOAT 🐐'\n",
    "\n",
    "    def country(self):\n",
    "        return 'Lionel Messi is from Argentina'\n",
    "\n",
    "    def worldcup(self):\n",
    "        return 'Lionel Messi will definitely win the World cup'\n",
    "\n",
    "class Ronaldo:\n",
    "    def realGoat(self):\n",
    "        return 'Ronaldo is\\'t a real GOAT'\n",
    "\n",
    "    def country(self):\n",
    "        return 'Ronaldo is from Portugal'\n",
    "\n",
    "    def worldcup(self):\n",
    "        return 'Ronaldo doesn\\'t have a World cup'\n",
    "\n",
    "is_messi = Messi()\n",
    "is_ronaldo = Ronaldo()\n",
    "\n",
    "for item in (is_messi,is_ronaldo):\n",
    "    print(item.realGoat())\n",
    "    print(item.country())\n",
    "    print(item.worldcup())"
   ]
  },
  {
   "cell_type": "markdown",
   "metadata": {},
   "source": [
    "# DATA ABSTRACTION"
   ]
  },
  {
   "cell_type": "markdown",
   "metadata": {},
   "source": [
    "A PROCESS OF HANDLING COMPLEXITY BY HIDING UNECESSARY INFORMATION FROM THE USER"
   ]
  },
  {
   "cell_type": "code",
   "execution_count": 7,
   "metadata": {},
   "outputs": [
    {
     "ename": "NameError",
     "evalue": "name 'polygon' is not defined",
     "output_type": "error",
     "traceback": [
      "\u001b[1;31m---------------------------------------------------------------------------\u001b[0m",
      "\u001b[1;31mNameError\u001b[0m                                 Traceback (most recent call last)",
      "Cell \u001b[1;32mIn [7], line 9\u001b[0m\n\u001b[0;32m      5\u001b[0m     \u001b[39m@abstractmethod\u001b[39m\n\u001b[0;32m      6\u001b[0m     \u001b[39mdef\u001b[39;00m \u001b[39mnoofside\u001b[39m(\u001b[39mself\u001b[39m):\n\u001b[0;32m      7\u001b[0m         \u001b[39mreturn\u001b[39;00m \u001b[39mf\u001b[39m\u001b[39m'\u001b[39m\u001b[39mPolygon has its sides from 3 upwards\u001b[39m\u001b[39m'\u001b[39m\n\u001b[1;32m----> 9\u001b[0m \u001b[39mclass\u001b[39;00m \u001b[39mTriangle\u001b[39;00m(polygon):\n\u001b[0;32m     10\u001b[0m     \u001b[39mdef\u001b[39;00m \u001b[39mnoofside\u001b[39m(\u001b[39mself\u001b[39m):\n\u001b[0;32m     11\u001b[0m         \u001b[39mreturn\u001b[39;00m \u001b[39mf\u001b[39m\u001b[39m'\u001b[39m\u001b[39mTriangle has 3 sides\u001b[39m\u001b[39m'\u001b[39m\n",
      "\u001b[1;31mNameError\u001b[0m: name 'polygon' is not defined"
     ]
    }
   ],
   "source": [
    "from abc import abstractmethod\n",
    "\n",
    "class Polygon:\n",
    "\n",
    "    @abstractmethod\n",
    "    def noofside(self):\n",
    "        return f'Polygon has its sides from 3 upwards'\n",
    "\n",
    "class Triangle(polygon):\n",
    "    def noofside(self):\n",
    "        return f'Triangle has 3 sides'\n",
    "\n",
    "class Hexagon(Polygon):\n",
    "    def noofside(self):\n",
    "        return f'Hexagon has 6 sides'\n",
    "\n",
    "t = polygon()\n",
    "t.noofside\n"
   ]
  },
  {
   "cell_type": "markdown",
   "metadata": {},
   "source": [
    "# GUI (Tkinter)"
   ]
  },
  {
   "cell_type": "code",
   "execution_count": 2,
   "metadata": {},
   "outputs": [],
   "source": [
    "import tkinter as tk"
   ]
  },
  {
   "cell_type": "code",
   "execution_count": 24,
   "metadata": {},
   "outputs": [],
   "source": [
    "from tkinter import *\n",
    "\n",
    "# main window\n",
    "gui = Tk()\n",
    "gui.title('Project X')\n",
    "welcome = Label(gui, text='Welcome to Our First Project.', fg='black')\n",
    "welcome.grid()\n",
    "\n",
    "\n",
    "# frame = Frame(gui)\n",
    "text = Label(gui, text='Class work').grid(row=0)\n",
    "enter = Label(gui, text='Enter').grid(row=1, column=0)\n",
    "button = Button(gui, text='Click Me!!').grid(row=2)\n",
    "entry = Entry(gui).grid(row=1, column=0)\n",
    "check = Checkbutton(gui).grid(row=3)\n",
    "# text = Text(gui).grid(row=2)\n",
    "\n",
    "\n",
    "\n",
    "gui.mainloop()"
   ]
  },
  {
   "cell_type": "code",
   "execution_count": null,
   "metadata": {},
   "outputs": [],
   "source": [
    "import calendar\n",
    "from tkinter import *\n",
    "\n",
    "\n",
    "calculator = Tk()\n",
    "calculator.title('Calender App')\n",
    "calculator.geometry('700x700')\n",
    "\n",
    "cal = Label(calculator, )\n",
    "\n",
    "\n",
    "def showCalender():\n",
    "    pass"
   ]
  },
  {
   "cell_type": "code",
   "execution_count": 4,
   "metadata": {},
   "outputs": [
    {
     "data": {
      "text/plain": [
       "'[{\"id\": \"001\", \"x\": 2, \"name\": \"chuck\"}]'"
      ]
     },
     "execution_count": 4,
     "metadata": {},
     "output_type": "execute_result"
    }
   ],
   "source": [
    "import json\n",
    "\n",
    "# converting python to javascript \n",
    "\n",
    "\n",
    "input = {\n",
    "    'id':'001',\n",
    "    'x':2,\n",
    "    'name':'chuck'\n",
    "},\n",
    "{\n",
    "    'id':'001',\n",
    "    'x':2,\n",
    "    'name':'chuck'\n",
    "}\n",
    "\n",
    "\n",
    "\n",
    "\n",
    "\n",
    "info = json.dumps(input)\n",
    "\n",
    "info"
   ]
  },
  {
   "cell_type": "code",
   "execution_count": 5,
   "metadata": {},
   "outputs": [
    {
     "data": {
      "text/plain": [
       "'[2, 3, 4, 5, 6, 7]'"
      ]
     },
     "execution_count": 5,
     "metadata": {},
     "output_type": "execute_result"
    }
   ],
   "source": [
    "import json\n",
    "\n",
    "# converting python to javascript \n",
    "\n",
    "\n",
    "input = [2,3,4,5,6,7]\n",
    "\n",
    "\n",
    "\n",
    "\n",
    "info = json.dumps(input)\n",
    "\n",
    "info"
   ]
  },
  {
   "cell_type": "code",
   "execution_count": 1,
   "metadata": {},
   "outputs": [
    {
     "name": "stdout",
     "output_type": "stream",
     "text": [
      "https://maps.googleapis.com/maps/api/geocode/json?\n"
     ]
    }
   ],
   "source": [
    "import urllib\n",
    "import json\n",
    "\n",
    "serviceurl = 'https://maps.googleapis.com/maps/api/geocode/json?'\n",
    "\n",
    "# serviceurl \n",
    "\n",
    "while True:\n",
    "    address = input('Enter your location...')\n",
    "    if len(address) < 1:\n",
    "        break\n",
    "    url = "
   ]
  }
 ],
 "metadata": {
  "kernelspec": {
   "display_name": "Python 3.10.7 64-bit (microsoft store)",
   "language": "python",
   "name": "python3"
  },
  "language_info": {
   "codemirror_mode": {
    "name": "ipython",
    "version": 3
   },
   "file_extension": ".py",
   "mimetype": "text/x-python",
   "name": "python",
   "nbconvert_exporter": "python",
   "pygments_lexer": "ipython3",
   "version": "3.10.10"
  },
  "orig_nbformat": 4,
  "vscode": {
   "interpreter": {
    "hash": "df03bcb3db8d02e6db5f4440a27a2981a8328cb8d911b7928a48605e1a88e4d3"
   }
  }
 },
 "nbformat": 4,
 "nbformat_minor": 2
}
